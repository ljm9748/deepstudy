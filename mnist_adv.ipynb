{
  "nbformat": 4,
  "nbformat_minor": 0,
  "metadata": {
    "colab": {
      "name": "mnist_adv.ipynb",
      "provenance": [],
      "authorship_tag": "ABX9TyO4k1qjfyCuztMnFIlYGQpz",
      "include_colab_link": true
    },
    "kernelspec": {
      "name": "python3",
      "display_name": "Python 3"
    },
    "accelerator": "GPU"
  },
  "cells": [
    {
      "cell_type": "markdown",
      "metadata": {
        "id": "view-in-github",
        "colab_type": "text"
      },
      "source": [
        "<a href=\"https://colab.research.google.com/github/ljm9748/deepstudy/blob/master/mnist_adv.ipynb\" target=\"_parent\"><img src=\"https://colab.research.google.com/assets/colab-badge.svg\" alt=\"Open In Colab\"/></a>"
      ]
    },
    {
      "cell_type": "code",
      "metadata": {
        "id": "jgPSSrDIN8Nm",
        "colab_type": "code",
        "colab": {
          "base_uri": "https://localhost:8080/",
          "height": 139
        },
        "outputId": "4de92b25-e16d-45f7-e33b-5de42100d9ef"
      },
      "source": [
        "!pip install -q tensorflow-gpu"
      ],
      "execution_count": 1,
      "outputs": [
        {
          "output_type": "stream",
          "text": [
            "\u001b[K     |████████████████████████████████| 421.8MB 38kB/s \n",
            "\u001b[K     |████████████████████████████████| 3.9MB 47.3MB/s \n",
            "\u001b[K     |████████████████████████████████| 450kB 59.9MB/s \n",
            "\u001b[?25h  Building wheel for gast (setup.py) ... \u001b[?25l\u001b[?25hdone\n",
            "\u001b[31mERROR: tensorflow 2.2.0rc2 has requirement gast==0.3.3, but you'll have gast 0.2.2 which is incompatible.\u001b[0m\n",
            "\u001b[31mERROR: tensorflow 2.2.0rc2 has requirement tensorboard<2.3.0,>=2.2.0, but you'll have tensorboard 2.1.1 which is incompatible.\u001b[0m\n",
            "\u001b[31mERROR: tensorflow 2.2.0rc2 has requirement tensorflow-estimator<2.3.0,>=2.2.0rc0, but you'll have tensorflow-estimator 2.1.0 which is incompatible.\u001b[0m\n"
          ],
          "name": "stdout"
        }
      ]
    },
    {
      "cell_type": "code",
      "metadata": {
        "colab_type": "code",
        "id": "B505okLiOgxb",
        "colab": {
          "base_uri": "https://localhost:8080/",
          "height": 1000
        },
        "outputId": "44d3c55d-eba9-477e-81b0-30dce0be6fe9"
      },
      "source": [
        "#-*- coding: utf-8 -*-\n",
        "\n",
        "from tensorflow.keras.datasets import mnist\n",
        "from tensorflow.python.keras.utils import np_utils\n",
        "from tensorflow.keras.models import Sequential\n",
        "from tensorflow.keras.layers import Dense, Dropout, Flatten, Conv2D, MaxPooling2D\n",
        "from tensorflow.keras.callbacks import ModelCheckpoint,EarlyStopping\n",
        "\n",
        "import matplotlib.pyplot as plt\n",
        "import numpy\n",
        "import os\n",
        "import tensorflow as tf\n",
        "\n",
        "# seed 값 설정\n",
        "seed = 0\n",
        "numpy.random.seed(seed)\n",
        "tf.random.set_seed(3)\n",
        "\n",
        "# 데이터 불러오기\n",
        "\n",
        "(X_train, Y_train), (X_test, Y_test) = mnist.load_data()\n",
        "X_train = X_train.reshape(X_train.shape[0], 28, 28, 1).astype('float32') / 255\n",
        "X_test = X_test.reshape(X_test.shape[0], 28, 28, 1).astype('float32') / 255\n",
        "Y_train = np_utils.to_categorical(Y_train)\n",
        "Y_test = np_utils.to_categorical(Y_test)\n",
        "\n",
        "# 컨볼루션 신경망의 설정\n",
        "model = Sequential()\n",
        "model.add(Conv2D(32, kernel_size=(3, 3), padding='valid', strides=1, input_shape=(28, 28, 1), activation='relu'))\n",
        "model.add(Conv2D(64, (3, 3), activation='relu'))\n",
        "model.add(MaxPooling2D(pool_size=2))\n",
        "model.add(Dropout(0.25))\n",
        "model.add(Flatten())\n",
        "model.add(Dense(128,  activation='relu'))\n",
        "model.add(Dropout(0.5))\n",
        "model.add(Dense(10, activation='softmax'))\n",
        "\n",
        "model.compile(loss='categorical_crossentropy',\n",
        "              optimizer='adam',\n",
        "              metrics=['accuracy'])\n",
        "\n",
        "# 모델 최적화 설정\n",
        "MODEL_DIR = './model/'\n",
        "if not os.path.exists(MODEL_DIR):\n",
        "    os.mkdir(MODEL_DIR)\n",
        "\n",
        "modelpath=\"./model/{epoch:02d}-{val_loss:.4f}.hdf5\"\n",
        "checkpointer = ModelCheckpoint(filepath=modelpath, monitor='val_loss', verbose=1, save_best_only=True)\n",
        "early_stopping_callback = EarlyStopping(monitor='val_loss', patience=10)\n",
        "\n",
        "# 모델의 실행\n",
        "history = model.fit(X_train, Y_train, validation_data=(X_test, Y_test), epochs=30, batch_size=200, verbose=0, callbacks=[early_stopping_callback,checkpointer])\n",
        "\n",
        "# 테스트 정확도 출력\n",
        "print(\"\\n Test Accuracy: %.4f\" % (model.evaluate(X_test, Y_test)[1]))\n",
        "\n",
        "# 테스트 셋의 오차\n",
        "y_vloss = history.history['val_loss']\n",
        "\n",
        "# 학습셋의 오차\n",
        "y_loss = history.history['loss']\n",
        "\n",
        "# 그래프로 표현\n",
        "x_len = numpy.arange(len(y_loss))\n",
        "plt.plot(x_len, y_vloss, marker='.', c=\"red\", label='Testset_loss')\n",
        "plt.plot(x_len, y_loss, marker='.', c=\"blue\", label='Trainset_loss')\n",
        "\n",
        "# 그래프에 그리드를 주고 레이블을 표시\n",
        "plt.legend(loc='upper right')\n",
        "plt.grid()\n",
        "plt.xlabel('epoch')\n",
        "plt.ylabel('loss')\n",
        "plt.show()\n"
      ],
      "execution_count": 4,
      "outputs": [
        {
          "output_type": "stream",
          "text": [
            "\n",
            "Epoch 00001: val_loss improved from inf to 0.06456, saving model to ./model/01-0.0646.hdf5\n",
            "\n",
            "Epoch 00002: val_loss improved from 0.06456 to 0.03836, saving model to ./model/02-0.0384.hdf5\n",
            "\n",
            "Epoch 00003: val_loss improved from 0.03836 to 0.03209, saving model to ./model/03-0.0321.hdf5\n",
            "\n",
            "Epoch 00004: val_loss improved from 0.03209 to 0.03093, saving model to ./model/04-0.0309.hdf5\n",
            "\n",
            "Epoch 00005: val_loss did not improve from 0.03093\n",
            "\n",
            "Epoch 00006: val_loss improved from 0.03093 to 0.02858, saving model to ./model/06-0.0286.hdf5\n",
            "\n",
            "Epoch 00007: val_loss improved from 0.02858 to 0.02720, saving model to ./model/07-0.0272.hdf5\n",
            "\n",
            "Epoch 00008: val_loss improved from 0.02720 to 0.02650, saving model to ./model/08-0.0265.hdf5\n",
            "\n",
            "Epoch 00009: val_loss did not improve from 0.02650\n",
            "\n",
            "Epoch 00010: val_loss did not improve from 0.02650\n",
            "\n",
            "Epoch 00011: val_loss improved from 0.02650 to 0.02607, saving model to ./model/11-0.0261.hdf5\n",
            "\n",
            "Epoch 00012: val_loss did not improve from 0.02607\n",
            "\n",
            "Epoch 00013: val_loss did not improve from 0.02607\n",
            "\n",
            "Epoch 00014: val_loss did not improve from 0.02607\n",
            "\n",
            "Epoch 00015: val_loss did not improve from 0.02607\n",
            "\n",
            "Epoch 00016: val_loss did not improve from 0.02607\n",
            "\n",
            "Epoch 00017: val_loss did not improve from 0.02607\n",
            "\n",
            "Epoch 00018: val_loss did not improve from 0.02607\n",
            "\n",
            "Epoch 00019: val_loss did not improve from 0.02607\n",
            "\n",
            "Epoch 00020: val_loss did not improve from 0.02607\n",
            "\n",
            "Epoch 00021: val_loss did not improve from 0.02607\n",
            "10000/10000 [==============================] - 1s 91us/sample - loss: 0.0264 - accuracy: 0.9936\n",
            "\n",
            " Test Accuracy: 0.9936\n"
          ],
          "name": "stdout"
        },
        {
          "output_type": "display_data",
          "data": {
            "image/png": "[encoded data removed]",
            "text/plain": [
              "<Figure size 432x288 with 1 Axes>"
            ]
          },
          "metadata": {
            "tags": []
          }
        }
      ]
    },
    {
      "cell_type": "code",
      "metadata": {
        "id": "VIOZS0bpOkAy",
        "colab_type": "code",
        "colab": {}
      },
      "source": [
        ""
      ],
      "execution_count": 0,
      "outputs": []
    }
  ]
}