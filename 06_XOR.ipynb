{
  "nbformat": 4,
  "nbformat_minor": 0,
  "metadata": {
    "colab": {
      "name": "06_XOR.ipynb",
      "provenance": [],
      "authorship_tag": "ABX9TyOLbssf3PRs1qAvwQySysHK",
      "include_colab_link": true
    },
    "kernelspec": {
      "name": "python3",
      "display_name": "Python 3"
    }
  },
  "cells": [
    {
      "cell_type": "markdown",
      "metadata": {
        "id": "view-in-github",
        "colab_type": "text"
      },
      "source": [
        "<a href=\"https://colab.research.google.com/github/ljm9748/deepstudy/blob/master/06_XOR.ipynb\" target=\"_parent\"><img src=\"https://colab.research.google.com/assets/colab-badge.svg\" alt=\"Open In Colab\"/></a>"
      ]
    },
    {
      "cell_type": "code",
      "metadata": {
        "id": "-ex9Tk9aDZiI",
        "colab_type": "code",
        "colab": {}
      },
      "source": [
        "import numpy as np\n",
        "\n",
        "w11=np.array([-2,-2])\n",
        "w12=np.array([2,2])\n",
        "w2=np.array([1,1])\n",
        "b1=3\n",
        "b2=-1\n",
        "b3=-1"
      ],
      "execution_count": 0,
      "outputs": []
    },
    {
      "cell_type": "code",
      "metadata": {
        "id": "iObB3DYfDzzm",
        "colab_type": "code",
        "colab": {}
      },
      "source": [
        "def MLP(x, w, b):\n",
        "  y= np.sum(w*x)+b\n",
        "  if y<=0:\n",
        "    return 0\n",
        "  else:\n",
        "    return 1"
      ],
      "execution_count": 0,
      "outputs": []
    },
    {
      "cell_type": "code",
      "metadata": {
        "id": "rv3SRdOKEBFR",
        "colab_type": "code",
        "colab": {}
      },
      "source": [
        "def NAND(x1, x2):\n",
        "  return MLP(np.array([x1, x2]), w11, b1)"
      ],
      "execution_count": 0,
      "outputs": []
    },
    {
      "cell_type": "code",
      "metadata": {
        "id": "MlxBOK15EMY3",
        "colab_type": "code",
        "colab": {}
      },
      "source": [
        "def OR(x1, x2):\n",
        "  return MLP(np.array([x1, x2]), w12, b2)"
      ],
      "execution_count": 0,
      "outputs": []
    },
    {
      "cell_type": "code",
      "metadata": {
        "id": "455mJEFPEVMn",
        "colab_type": "code",
        "colab": {}
      },
      "source": [
        "def AND(x1, x2):\n",
        "  return MLP(np.array([x1, x2]), w2, b3)"
      ],
      "execution_count": 0,
      "outputs": []
    },
    {
      "cell_type": "code",
      "metadata": {
        "id": "oFkRCJfpFrXn",
        "colab_type": "code",
        "colab": {}
      },
      "source": [
        "def XOR(x1, x2):\n",
        "  return AND(NAND(x1, x2), OR(x1, x2))"
      ],
      "execution_count": 0,
      "outputs": []
    },
    {
      "cell_type": "code",
      "metadata": {
        "id": "zqGyjf47EcID",
        "colab_type": "code",
        "colab": {
          "base_uri": "https://localhost:8080/",
          "height": 87
        },
        "outputId": "e4f94d33-5c59-4add-ccbc-43917dc0280c"
      },
      "source": [
        "if __name__=='__main__':\n",
        "  for x in [(0,0), (1,0), (0,1), (1,1)]:\n",
        "    y=XOR(x[0], x[1])\n",
        "    print(\"입력 값: \"+ str(x)+\"출력 값: \"+str(y))"
      ],
      "execution_count": 24,
      "outputs": [
        {
          "output_type": "stream",
          "text": [
            "입력 값: (0, 0)출력 값: 0\n",
            "입력 값: (1, 0)출력 값: 1\n",
            "입력 값: (0, 1)출력 값: 1\n",
            "입력 값: (1, 1)출력 값: 0\n"
          ],
          "name": "stdout"
        }
      ]
    },
    {
      "cell_type": "code",
      "metadata": {
        "id": "ZMtIAIKiFC3o",
        "colab_type": "code",
        "colab": {}
      },
      "source": [
        ""
      ],
      "execution_count": 0,
      "outputs": []
    }
  ]
}