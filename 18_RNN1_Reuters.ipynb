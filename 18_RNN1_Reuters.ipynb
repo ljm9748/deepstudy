{
  "nbformat": 4,
  "nbformat_minor": 0,
  "metadata": {
    "colab": {
      "name": "18_RNN1_Reuters.ipynb",
      "provenance": [],
      "authorship_tag": "ABX9TyNdqlkpViOjcCTrVxBrsBkN",
      "include_colab_link": true
    },
    "kernelspec": {
      "name": "python3",
      "display_name": "Python 3"
    },
    "accelerator": "GPU"
  },
  "cells": [
    {
      "cell_type": "markdown",
      "metadata": {
        "id": "view-in-github",
        "colab_type": "text"
      },
      "source": [
        "<a href=\"https://colab.research.google.com/github/ljm9748/deepstudy/blob/master/18_RNN1_Reuters.ipynb\" target=\"_parent\"><img src=\"https://colab.research.google.com/assets/colab-badge.svg\" alt=\"Open In Colab\"/></a>"
      ]
    },
    {
      "cell_type": "code",
      "metadata": {
        "id": "PJdwrPkPckuF",
        "colab_type": "code",
        "colab": {
          "base_uri": "https://localhost:8080/",
          "height": 139
        },
        "outputId": "e63cfa33-c4c2-4d53-92b8-942d5cb6b28d"
      },
      "source": [
        "!pip install -q tensorflow-gpu"
      ],
      "execution_count": 3,
      "outputs": [
        {
          "output_type": "stream",
          "text": [
            "\u001b[K     |████████████████████████████████| 421.8MB 39kB/s \n",
            "\u001b[K     |████████████████████████████████| 450kB 57.7MB/s \n",
            "\u001b[K     |████████████████████████████████| 3.9MB 50.4MB/s \n",
            "\u001b[?25h  Building wheel for gast (setup.py) ... \u001b[?25l\u001b[?25hdone\n",
            "\u001b[31mERROR: tensorflow 2.2.0rc2 has requirement gast==0.3.3, but you'll have gast 0.2.2 which is incompatible.\u001b[0m\n",
            "\u001b[31mERROR: tensorflow 2.2.0rc2 has requirement tensorboard<2.3.0,>=2.2.0, but you'll have tensorboard 2.1.1 which is incompatible.\u001b[0m\n",
            "\u001b[31mERROR: tensorflow 2.2.0rc2 has requirement tensorflow-estimator<2.3.0,>=2.2.0rc0, but you'll have tensorflow-estimator 2.1.0 which is incompatible.\u001b[0m\n"
          ],
          "name": "stdout"
        }
      ]
    },
    {
      "cell_type": "code",
      "metadata": {
        "id": "aiU6CN-Vephr",
        "colab_type": "code",
        "colab": {
          "base_uri": "https://localhost:8080/",
          "height": 35
        },
        "outputId": "abd49d12-2973-4e4a-c49d-cdc29ce6beeb"
      },
      "source": [
        "import tensorflow as tf\n",
        "\n",
        "print('gpu available : ', tf.test.is_gpu_available())"
      ],
      "execution_count": 5,
      "outputs": [
        {
          "output_type": "stream",
          "text": [
            "gpu available :  True\n"
          ],
          "name": "stdout"
        }
      ]
    },
    {
      "cell_type": "code",
      "metadata": {
        "id": "w0aMG0BDevSx",
        "colab_type": "code",
        "colab": {}
      },
      "source": [
        "import numpy\n",
        "import matplotlib.pyplot as plt"
      ],
      "execution_count": 0,
      "outputs": []
    },
    {
      "cell_type": "code",
      "metadata": {
        "id": "wwbRqbXRfKlz",
        "colab_type": "code",
        "colab": {}
      },
      "source": [
        "from keras.datasets import reuters #데이터셋 불러오기\n",
        "from keras.models import Sequential\n",
        "from tensorflow.keras.models import Sequential\n",
        "from tensorflow.keras.layers import Dense,LSTM,Embedding\n",
        "from tensorflow.keras.preprocessing import sequence\n",
        "#from tensorflow.keras.utils import np_utils\n",
        "from keras.utils.np_utils import to_categorical"
      ],
      "execution_count": 0,
      "outputs": []
    },
    {
      "cell_type": "code",
      "metadata": {
        "id": "yI8aoZH0fdre",
        "colab_type": "code",
        "colab": {}
      },
      "source": [
        "seed = 0\n",
        "numpy.random.seed(seed)\n",
        "tf.random.set_seed(3)\n"
      ],
      "execution_count": 0,
      "outputs": []
    },
    {
      "cell_type": "markdown",
      "metadata": {
        "id": "evdn-Rd9gCcP",
        "colab_type": "text"
      },
      "source": [
        "# 데이터를 학습, 데이터로 나누기\n",
        "num_word는 가져올 개수를 의미하는데 여기서는 빈도순으로 1000개 가져온다\n",
        "\n",
        "test_split은 train과 test비율을 의미함"
      ]
    },
    {
      "cell_type": "code",
      "metadata": {
        "id": "2XloAyMpf-4p",
        "colab_type": "code",
        "colab": {
          "base_uri": "https://localhost:8080/",
          "height": 52
        },
        "outputId": "b23d2fd0-1a98-44e5-fab6-c6a9b3048d9a"
      },
      "source": [
        "(X_train, Y_train), (X_test, Y_test) = reuters.load_data(num_words=1000, test_split=0.2)"
      ],
      "execution_count": 11,
      "outputs": [
        {
          "output_type": "stream",
          "text": [
            "Downloading data from https://s3.amazonaws.com/text-datasets/reuters.npz\n",
            "2113536/2110848 [==============================] - 2s 1us/step\n"
          ],
          "name": "stdout"
        }
      ]
    },
    {
      "cell_type": "markdown",
      "metadata": {
        "id": "YZnaoWqGg-XL",
        "colab_type": "text"
      },
      "source": [
        "numpy.max()로 Y_train 종류를 찾는데 0부터 인덱스가 시작되므로 1더해 category를 만든다"
      ]
    },
    {
      "cell_type": "code",
      "metadata": {
        "id": "gDJcptF6givI",
        "colab_type": "code",
        "colab": {
          "base_uri": "https://localhost:8080/",
          "height": 107
        },
        "outputId": "cdc82f78-81e9-4d2b-c7fd-0b9b86ce9735"
      },
      "source": [
        "category = numpy.max(Y_train) + 1\n",
        "print(category, '카테고리')\n",
        "print(len(X_train), '학습용 뉴스 기사')\n",
        "print(len(X_test), '테스트용 뉴스 기사')\n",
        "print(X_train[0])"
      ],
      "execution_count": 13,
      "outputs": [
        {
          "output_type": "stream",
          "text": [
            "46 카테고리\n",
            "8982 학습용 뉴스 기사\n",
            "2246 테스트용 뉴스 기사\n",
            "[1, 2, 2, 8, 43, 10, 447, 5, 25, 207, 270, 5, 2, 111, 16, 369, 186, 90, 67, 7, 89, 5, 19, 102, 6, 19, 124, 15, 90, 67, 84, 22, 482, 26, 7, 48, 4, 49, 8, 864, 39, 209, 154, 6, 151, 6, 83, 11, 15, 22, 155, 11, 15, 7, 48, 9, 2, 2, 504, 6, 258, 6, 272, 11, 15, 22, 134, 44, 11, 15, 16, 8, 197, 2, 90, 67, 52, 29, 209, 30, 32, 132, 6, 109, 15, 17, 12]\n"
          ],
          "name": "stdout"
        }
      ]
    },
    {
      "cell_type": "markdown",
      "metadata": {
        "id": "CL8qGwOdhhTB",
        "colab_type": "text"
      },
      "source": [
        "# 데이터 전처리\n",
        "sequence.pad_sequences()함수로 패딩을 이용해 maxlen의 길이로 맞춰준다. 이때 넘치면 자르고 부족하면 0을 채워넣는다.\n",
        "\n",
        "np_utils.to_categorical()함수로 원핫 인코딩과정을 실행한다.\n",
        "![원-핫 인코딩](https://minjejeon.github.io/learningstock/images/20170605_one_hot_encoding_excel.jpg)"
      ]
    },
    {
      "cell_type": "code",
      "metadata": {
        "id": "7eFcGAcxg0pp",
        "colab_type": "code",
        "colab": {}
      },
      "source": [
        "x_train = sequence.pad_sequences(X_train, maxlen=100)\n",
        "x_test = sequence.pad_sequences(X_test, maxlen=100)\n",
        "y_train = to_categorical(Y_train)\n",
        "y_test = to_categorical(Y_test)"
      ],
      "execution_count": 0,
      "outputs": []
    },
    {
      "cell_type": "markdown",
      "metadata": {
        "id": "uLDt7f14jBjr",
        "colab_type": "text"
      },
      "source": [
        "# 모델만들기, 컴파일, 실행\n",
        "\n",
        "Sequenstial()로 모델생성하는데 Embedding층과 LSTM층이 추가됨\n",
        "\n",
        "Embedding(불러온 단어의 총개수, 기사당 단어수): 데이터 전처리 과정을 통해 입력된 값 받아 다음층이 알아들을 수 있는 형태로 변환\n",
        "\n",
        "LSTM(기사당 단어수, 기타옵션): RNN에서 기억 값에 대한 가중치 제어\n",
        "\n",
        "활성화함수로 tanh함수 사용: tanh 함수는 함수의 중심값을 0으로 옮겨 sigmoid의 최적화 과정이 느려지는 문제를 해결했다\n",
        "![대체 텍스트](https://mlnotebook.github.io/img/transferFunctions/tanh.png)\n",
        "\n",
        "미분함수에 대해 일정값 이상 커질시 미분값이 소실되는 문제는 여전히 남아있다.\n",
        "![대체 텍스트](https://mlnotebook.github.io/img/transferFunctions/dtanh.png)"
      ]
    },
    {
      "cell_type": "code",
      "metadata": {
        "id": "kRVcjaWUixor",
        "colab_type": "code",
        "colab": {}
      },
      "source": [
        "model = Sequential()\n",
        "model.add(Embedding(1000, 100))\n",
        "model.add(LSTM(100, activation='tanh'))\n",
        "model.add(Dense(46, activation='softmax'))"
      ],
      "execution_count": 0,
      "outputs": []
    },
    {
      "cell_type": "code",
      "metadata": {
        "id": "YWqxJvR7k3Dh",
        "colab_type": "code",
        "colab": {}
      },
      "source": [
        "model.compile(loss='categorical_crossentropy',\n",
        "            optimizer='adam',\n",
        "            metrics=['accuracy'])"
      ],
      "execution_count": 0,
      "outputs": []
    },
    {
      "cell_type": "code",
      "metadata": {
        "id": "AIctTs4ok4eK",
        "colab_type": "code",
        "colab": {
          "base_uri": "https://localhost:8080/",
          "height": 711
        },
        "outputId": "7d20f9f6-1f1f-414c-8dae-f7825c77e092"
      },
      "source": [
        "history = model.fit(x_train, y_train, batch_size=100, epochs=20, validation_data=(x_test, y_test))"
      ],
      "execution_count": 18,
      "outputs": [
        {
          "output_type": "stream",
          "text": [
            "Epoch 1/20\n",
            "90/90 [==============================] - 2s 17ms/step - loss: 2.5769 - accuracy: 0.3497 - val_loss: 2.1718 - val_accuracy: 0.4488\n",
            "Epoch 2/20\n",
            "90/90 [==============================] - 1s 12ms/step - loss: 2.0392 - accuracy: 0.4895 - val_loss: 1.9647 - val_accuracy: 0.5053\n",
            "Epoch 3/20\n",
            "90/90 [==============================] - 1s 12ms/step - loss: 1.8579 - accuracy: 0.5209 - val_loss: 1.8092 - val_accuracy: 0.5445\n",
            "Epoch 4/20\n",
            "90/90 [==============================] - 1s 12ms/step - loss: 1.7391 - accuracy: 0.5501 - val_loss: 1.7158 - val_accuracy: 0.5668\n",
            "Epoch 5/20\n",
            "90/90 [==============================] - 1s 12ms/step - loss: 1.6594 - accuracy: 0.5777 - val_loss: 1.8095 - val_accuracy: 0.5476\n",
            "Epoch 6/20\n",
            "90/90 [==============================] - 1s 12ms/step - loss: 1.6135 - accuracy: 0.5906 - val_loss: 1.6292 - val_accuracy: 0.5997\n",
            "Epoch 7/20\n",
            "90/90 [==============================] - 1s 12ms/step - loss: 1.5319 - accuracy: 0.6139 - val_loss: 1.5562 - val_accuracy: 0.6251\n",
            "Epoch 8/20\n",
            "90/90 [==============================] - 1s 12ms/step - loss: 1.4240 - accuracy: 0.6426 - val_loss: 1.5136 - val_accuracy: 0.6238\n",
            "Epoch 9/20\n",
            "90/90 [==============================] - 1s 12ms/step - loss: 1.3522 - accuracy: 0.6588 - val_loss: 1.4620 - val_accuracy: 0.6367\n",
            "Epoch 10/20\n",
            "90/90 [==============================] - 1s 12ms/step - loss: 1.2889 - accuracy: 0.6719 - val_loss: 1.4455 - val_accuracy: 0.6318\n",
            "Epoch 11/20\n",
            "90/90 [==============================] - 1s 12ms/step - loss: 1.2379 - accuracy: 0.6856 - val_loss: 1.3671 - val_accuracy: 0.6670\n",
            "Epoch 12/20\n",
            "90/90 [==============================] - 1s 12ms/step - loss: 1.1721 - accuracy: 0.6984 - val_loss: 1.3633 - val_accuracy: 0.6589\n",
            "Epoch 13/20\n",
            "90/90 [==============================] - 1s 12ms/step - loss: 1.1187 - accuracy: 0.7121 - val_loss: 1.3196 - val_accuracy: 0.6687\n",
            "Epoch 14/20\n",
            "90/90 [==============================] - 1s 12ms/step - loss: 1.0658 - accuracy: 0.7251 - val_loss: 1.2944 - val_accuracy: 0.6839\n",
            "Epoch 15/20\n",
            "90/90 [==============================] - 1s 12ms/step - loss: 1.0339 - accuracy: 0.7366 - val_loss: 1.2529 - val_accuracy: 0.6963\n",
            "Epoch 16/20\n",
            "90/90 [==============================] - 1s 12ms/step - loss: 0.9795 - accuracy: 0.7509 - val_loss: 1.2322 - val_accuracy: 0.6990\n",
            "Epoch 17/20\n",
            "90/90 [==============================] - 1s 12ms/step - loss: 0.9376 - accuracy: 0.7592 - val_loss: 1.2598 - val_accuracy: 0.6986\n",
            "Epoch 18/20\n",
            "90/90 [==============================] - 1s 12ms/step - loss: 0.9152 - accuracy: 0.7642 - val_loss: 1.2134 - val_accuracy: 0.6990\n",
            "Epoch 19/20\n",
            "90/90 [==============================] - 1s 12ms/step - loss: 0.8669 - accuracy: 0.7757 - val_loss: 1.1838 - val_accuracy: 0.7021\n",
            "Epoch 20/20\n",
            "90/90 [==============================] - 1s 12ms/step - loss: 0.8171 - accuracy: 0.7908 - val_loss: 1.2124 - val_accuracy: 0.7066\n"
          ],
          "name": "stdout"
        }
      ]
    },
    {
      "cell_type": "code",
      "metadata": {
        "id": "AqkuWNmBk6B1",
        "colab_type": "code",
        "colab": {
          "base_uri": "https://localhost:8080/",
          "height": 69
        },
        "outputId": "42a8cdbb-4307-48a8-c740-5018660720ed"
      },
      "source": [
        "print(\"\\n Test Accuracy: %.4f\" % (model.evaluate(x_test, y_test)[1]))"
      ],
      "execution_count": 19,
      "outputs": [
        {
          "output_type": "stream",
          "text": [
            "71/71 [==============================] - 0s 6ms/step - loss: 1.2120 - accuracy: 0.7066\n",
            "\n",
            " Test Accuracy: 0.7066\n"
          ],
          "name": "stdout"
        }
      ]
    },
    {
      "cell_type": "markdown",
      "metadata": {
        "id": "w2mHrncqlJNb",
        "colab_type": "text"
      },
      "source": [
        "# 테스트, 학습셋의 오차"
      ]
    },
    {
      "cell_type": "code",
      "metadata": {
        "id": "Dkgsffq5lFul",
        "colab_type": "code",
        "colab": {}
      },
      "source": [
        "y_vloss = history.history['val_loss']"
      ],
      "execution_count": 0,
      "outputs": []
    },
    {
      "cell_type": "code",
      "metadata": {
        "id": "U0lPldXelS-2",
        "colab_type": "code",
        "colab": {}
      },
      "source": [
        "y_loss = history.history['loss']"
      ],
      "execution_count": 0,
      "outputs": []
    },
    {
      "cell_type": "markdown",
      "metadata": {
        "id": "ch2BgR2hlXo2",
        "colab_type": "text"
      },
      "source": [
        "#그래프로 표현"
      ]
    },
    {
      "cell_type": "code",
      "metadata": {
        "id": "pptI4ae0lO-l",
        "colab_type": "code",
        "colab": {
          "base_uri": "https://localhost:8080/",
          "height": 283
        },
        "outputId": "c23cc4c4-6ffc-4cca-8e68-937adcdb399d"
      },
      "source": [
        "x_len = numpy.arange(len(y_loss))\n",
        "plt.plot(x_len, y_vloss, marker='.', c=\"red\", label='Testset_loss')\n",
        "plt.plot(x_len, y_loss, marker='.', c=\"blue\", label='Trainset_loss')\n"
      ],
      "execution_count": 23,
      "outputs": [
        {
          "output_type": "execute_result",
          "data": {
            "text/plain": [
              "[<matplotlib.lines.Line2D at 0x7fad6462d940>]"
            ]
          },
          "metadata": {
            "tags": []
          },
          "execution_count": 23
        },
        {
          "output_type": "display_data",
          "data": {
            "image/png": "[encoded data removed]",
            "text/plain": [
              "<Figure size 432x288 with 1 Axes>"
            ]
          },
          "metadata": {
            "tags": []
          }
        }
      ]
    },
    {
      "cell_type": "code",
      "metadata": {
        "id": "e8hwhN3ElcDf",
        "colab_type": "code",
        "colab": {
          "base_uri": "https://localhost:8080/",
          "height": 297
        },
        "outputId": "c7294649-e3b3-489c-aa27-cfdb0ff0f2ac"
      },
      "source": [
        "plt.legend(loc='upper right')\n",
        "plt.grid()\n",
        "plt.xlabel('epoch')\n",
        "plt.ylabel('loss')\n",
        "plt.plot(x_len, y_vloss, marker='.', c=\"red\", label='Testset_loss')\n",
        "plt.plot(x_len, y_loss, marker='.', c=\"blue\", label='Trainset_loss')\n",
        "plt.show()"
      ],
      "execution_count": 25,
      "outputs": [
        {
          "output_type": "stream",
          "text": [
            "No handles with labels found to put in legend.\n"
          ],
          "name": "stderr"
        },
        {
          "output_type": "display_data",
          "data": {
            "image/png": "[encoded data removed]",
            "text/plain": [
              "<Figure size 432x288 with 1 Axes>"
            ]
          },
          "metadata": {
            "tags": []
          }
        }
      ]
    },
    {
      "cell_type": "code",
      "metadata": {
        "id": "eKDkyTQtldSK",
        "colab_type": "code",
        "colab": {}
      },
      "source": [
        ""
      ],
      "execution_count": 0,
      "outputs": []
    }
  ]
}