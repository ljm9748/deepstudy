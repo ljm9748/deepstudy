{
  "nbformat": 4,
  "nbformat_minor": 0,
  "metadata": {
    "colab": {
      "name": "07_XOR-backpropagation.ipynb",
      "provenance": [],
      "authorship_tag": "ABX9TyMZL72FgLuzYfU5021TdIol",
      "include_colab_link": true
    },
    "kernelspec": {
      "name": "python3",
      "display_name": "Python 3"
    }
  },
  "cells": [
    {
      "cell_type": "markdown",
      "metadata": {
        "id": "view-in-github",
        "colab_type": "text"
      },
      "source": [
        "<a href=\"https://colab.research.google.com/github/ljm9748/deepstudy/blob/master/07_XOR_backpropagation.ipynb\" target=\"_parent\"><img src=\"https://colab.research.google.com/assets/colab-badge.svg\" alt=\"Open In Colab\"/></a>"
      ]
    },
    {
      "cell_type": "code",
      "metadata": {
        "id": "iU4NJlvBIP7J",
        "colab_type": "code",
        "colab": {
          "base_uri": "https://localhost:8080/",
          "height": 956
        },
        "outputId": "9eef66e7-89eb-487c-d99e-7a12a9839560"
      },
      "source": [
        "!pip install tensorflow==2.1.0"
      ],
      "execution_count": 1,
      "outputs": [
        {
          "output_type": "stream",
          "text": [
            "Collecting tensorflow==2.1.0\n",
            "\u001b[?25l  Downloading https://files.pythonhosted.org/packages/85/d4/c0cd1057b331bc38b65478302114194bd8e1b9c2bbc06e300935c0e93d90/tensorflow-2.1.0-cp36-cp36m-manylinux2010_x86_64.whl (421.8MB)\n",
            "\u001b[K     |████████████████████████████████| 421.8MB 39kB/s \n",
            "\u001b[?25hRequirement already satisfied: keras-applications>=1.0.8 in /usr/local/lib/python3.6/dist-packages (from tensorflow==2.1.0) (1.0.8)\n",
            "Requirement already satisfied: google-pasta>=0.1.6 in /usr/local/lib/python3.6/dist-packages (from tensorflow==2.1.0) (0.2.0)\n",
            "Requirement already satisfied: six>=1.12.0 in /usr/local/lib/python3.6/dist-packages (from tensorflow==2.1.0) (1.12.0)\n",
            "Requirement already satisfied: grpcio>=1.8.6 in /usr/local/lib/python3.6/dist-packages (from tensorflow==2.1.0) (1.24.3)\n",
            "Requirement already satisfied: protobuf>=3.8.0 in /usr/local/lib/python3.6/dist-packages (from tensorflow==2.1.0) (3.10.0)\n",
            "Requirement already satisfied: wrapt>=1.11.1 in /usr/local/lib/python3.6/dist-packages (from tensorflow==2.1.0) (1.12.1)\n",
            "Requirement already satisfied: astor>=0.6.0 in /usr/local/lib/python3.6/dist-packages (from tensorflow==2.1.0) (0.8.1)\n",
            "Requirement already satisfied: numpy<2.0,>=1.16.0 in /usr/local/lib/python3.6/dist-packages (from tensorflow==2.1.0) (1.18.2)\n",
            "Requirement already satisfied: keras-preprocessing>=1.1.0 in /usr/local/lib/python3.6/dist-packages (from tensorflow==2.1.0) (1.1.0)\n",
            "Collecting tensorboard<2.2.0,>=2.1.0\n",
            "\u001b[?25l  Downloading https://files.pythonhosted.org/packages/d9/41/bbf49b61370e4f4d245d4c6051dfb6db80cec672605c91b1652ac8cc3d38/tensorboard-2.1.1-py3-none-any.whl (3.8MB)\n",
            "\u001b[K     |████████████████████████████████| 3.9MB 51.3MB/s \n",
            "\u001b[?25hRequirement already satisfied: opt-einsum>=2.3.2 in /usr/local/lib/python3.6/dist-packages (from tensorflow==2.1.0) (3.2.0)\n",
            "Requirement already satisfied: gast==0.2.2 in /usr/local/lib/python3.6/dist-packages (from tensorflow==2.1.0) (0.2.2)\n",
            "Requirement already satisfied: scipy==1.4.1; python_version >= \"3\" in /usr/local/lib/python3.6/dist-packages (from tensorflow==2.1.0) (1.4.1)\n",
            "Collecting tensorflow-estimator<2.2.0,>=2.1.0rc0\n",
            "\u001b[?25l  Downloading https://files.pythonhosted.org/packages/18/90/b77c328a1304437ab1310b463e533fa7689f4bfc41549593056d812fab8e/tensorflow_estimator-2.1.0-py2.py3-none-any.whl (448kB)\n",
            "\u001b[K     |████████████████████████████████| 450kB 53.2MB/s \n",
            "\u001b[?25hRequirement already satisfied: termcolor>=1.1.0 in /usr/local/lib/python3.6/dist-packages (from tensorflow==2.1.0) (1.1.0)\n",
            "Requirement already satisfied: wheel>=0.26; python_version >= \"3\" in /usr/local/lib/python3.6/dist-packages (from tensorflow==2.1.0) (0.34.2)\n",
            "Requirement already satisfied: absl-py>=0.7.0 in /usr/local/lib/python3.6/dist-packages (from tensorflow==2.1.0) (0.9.0)\n",
            "Requirement already satisfied: h5py in /usr/local/lib/python3.6/dist-packages (from keras-applications>=1.0.8->tensorflow==2.1.0) (2.8.0)\n",
            "Requirement already satisfied: setuptools in /usr/local/lib/python3.6/dist-packages (from protobuf>=3.8.0->tensorflow==2.1.0) (46.0.0)\n",
            "Requirement already satisfied: markdown>=2.6.8 in /usr/local/lib/python3.6/dist-packages (from tensorboard<2.2.0,>=2.1.0->tensorflow==2.1.0) (3.2.1)\n",
            "Requirement already satisfied: werkzeug>=0.11.15 in /usr/local/lib/python3.6/dist-packages (from tensorboard<2.2.0,>=2.1.0->tensorflow==2.1.0) (1.0.0)\n",
            "Requirement already satisfied: google-auth<2,>=1.6.3 in /usr/local/lib/python3.6/dist-packages (from tensorboard<2.2.0,>=2.1.0->tensorflow==2.1.0) (1.7.2)\n",
            "Requirement already satisfied: requests<3,>=2.21.0 in /usr/local/lib/python3.6/dist-packages (from tensorboard<2.2.0,>=2.1.0->tensorflow==2.1.0) (2.21.0)\n",
            "Requirement already satisfied: google-auth-oauthlib<0.5,>=0.4.1 in /usr/local/lib/python3.6/dist-packages (from tensorboard<2.2.0,>=2.1.0->tensorflow==2.1.0) (0.4.1)\n",
            "Requirement already satisfied: pyasn1-modules>=0.2.1 in /usr/local/lib/python3.6/dist-packages (from google-auth<2,>=1.6.3->tensorboard<2.2.0,>=2.1.0->tensorflow==2.1.0) (0.2.8)\n",
            "Requirement already satisfied: cachetools<3.2,>=2.0.0 in /usr/local/lib/python3.6/dist-packages (from google-auth<2,>=1.6.3->tensorboard<2.2.0,>=2.1.0->tensorflow==2.1.0) (3.1.1)\n",
            "Requirement already satisfied: rsa<4.1,>=3.1.4 in /usr/local/lib/python3.6/dist-packages (from google-auth<2,>=1.6.3->tensorboard<2.2.0,>=2.1.0->tensorflow==2.1.0) (4.0)\n",
            "Requirement already satisfied: idna<2.9,>=2.5 in /usr/local/lib/python3.6/dist-packages (from requests<3,>=2.21.0->tensorboard<2.2.0,>=2.1.0->tensorflow==2.1.0) (2.8)\n",
            "Requirement already satisfied: certifi>=2017.4.17 in /usr/local/lib/python3.6/dist-packages (from requests<3,>=2.21.0->tensorboard<2.2.0,>=2.1.0->tensorflow==2.1.0) (2019.11.28)\n",
            "Requirement already satisfied: chardet<3.1.0,>=3.0.2 in /usr/local/lib/python3.6/dist-packages (from requests<3,>=2.21.0->tensorboard<2.2.0,>=2.1.0->tensorflow==2.1.0) (3.0.4)\n",
            "Requirement already satisfied: urllib3<1.25,>=1.21.1 in /usr/local/lib/python3.6/dist-packages (from requests<3,>=2.21.0->tensorboard<2.2.0,>=2.1.0->tensorflow==2.1.0) (1.24.3)\n",
            "Requirement already satisfied: requests-oauthlib>=0.7.0 in /usr/local/lib/python3.6/dist-packages (from google-auth-oauthlib<0.5,>=0.4.1->tensorboard<2.2.0,>=2.1.0->tensorflow==2.1.0) (1.3.0)\n",
            "Requirement already satisfied: pyasn1<0.5.0,>=0.4.6 in /usr/local/lib/python3.6/dist-packages (from pyasn1-modules>=0.2.1->google-auth<2,>=1.6.3->tensorboard<2.2.0,>=2.1.0->tensorflow==2.1.0) (0.4.8)\n",
            "Requirement already satisfied: oauthlib>=3.0.0 in /usr/local/lib/python3.6/dist-packages (from requests-oauthlib>=0.7.0->google-auth-oauthlib<0.5,>=0.4.1->tensorboard<2.2.0,>=2.1.0->tensorflow==2.1.0) (3.1.0)\n",
            "\u001b[31mERROR: tensorflow-federated 0.12.0 has requirement tensorflow-addons~=0.7.0, but you'll have tensorflow-addons 0.8.3 which is incompatible.\u001b[0m\n",
            "Installing collected packages: tensorboard, tensorflow-estimator, tensorflow\n",
            "  Found existing installation: tensorboard 1.15.0\n",
            "    Uninstalling tensorboard-1.15.0:\n",
            "      Successfully uninstalled tensorboard-1.15.0\n",
            "  Found existing installation: tensorflow-estimator 1.15.1\n",
            "    Uninstalling tensorflow-estimator-1.15.1:\n",
            "      Successfully uninstalled tensorflow-estimator-1.15.1\n",
            "  Found existing installation: tensorflow 1.15.0\n",
            "    Uninstalling tensorflow-1.15.0:\n",
            "      Successfully uninstalled tensorflow-1.15.0\n",
            "Successfully installed tensorboard-2.1.1 tensorflow-2.1.0 tensorflow-estimator-2.1.0\n"
          ],
          "name": "stdout"
        }
      ]
    },
    {
      "cell_type": "code",
      "metadata": {
        "id": "R_cDNq4oJxy5",
        "colab_type": "code",
        "colab": {}
      },
      "source": [
        "import random\n",
        "import numpy as np"
      ],
      "execution_count": 0,
      "outputs": []
    },
    {
      "cell_type": "code",
      "metadata": {
        "id": "dMVdw3YtJz5o",
        "colab_type": "code",
        "colab": {}
      },
      "source": [
        "random.seed(777)"
      ],
      "execution_count": 0,
      "outputs": []
    },
    {
      "cell_type": "code",
      "metadata": {
        "id": "OLKdsxvhJ1i7",
        "colab_type": "code",
        "colab": {}
      },
      "source": [
        "data = [\n",
        "    [[0, 0], [0]],\n",
        "    [[0, 1], [1]],\n",
        "    [[1, 0], [1]],\n",
        "    [[1, 1], [0]]\n",
        "]"
      ],
      "execution_count": 0,
      "outputs": []
    },
    {
      "cell_type": "code",
      "metadata": {
        "id": "3sDriNI6J3bS",
        "colab_type": "code",
        "colab": {}
      },
      "source": [
        "iterations=5000\n",
        "lr=0.1\n",
        "mo=0.4"
      ],
      "execution_count": 0,
      "outputs": []
    },
    {
      "cell_type": "code",
      "metadata": {
        "id": "QukOTPcEJ56Q",
        "colab_type": "code",
        "colab": {}
      },
      "source": [
        "def sigmoid(x, derivative=False):\n",
        "    if (derivative == True):\n",
        "        return x * (1 - x)\n",
        "    return 1 / (1 + np.exp(-x))"
      ],
      "execution_count": 0,
      "outputs": []
    },
    {
      "cell_type": "code",
      "metadata": {
        "id": "bXSaJXgpJ-2h",
        "colab_type": "code",
        "colab": {}
      },
      "source": [
        "def tanh(x, derivative=False):\n",
        "    if (derivative == True):\n",
        "        return 1 - x ** 2\n",
        "    return np.tanh(x)\n"
      ],
      "execution_count": 0,
      "outputs": []
    },
    {
      "cell_type": "code",
      "metadata": {
        "id": "WtHR2A2CKAvg",
        "colab_type": "code",
        "colab": {}
      },
      "source": [
        "def makeMatrix(i, j, fill=0.0):\n",
        "    mat = []\n",
        "    for i in range(i):\n",
        "        mat.append([fill] * j)\n",
        "    return mat"
      ],
      "execution_count": 0,
      "outputs": []
    },
    {
      "cell_type": "code",
      "metadata": {
        "id": "ftvkcrJDKCmQ",
        "colab_type": "code",
        "colab": {}
      },
      "source": [
        "class NeuralNetwork:\n",
        "\n",
        "    # 초깃값의 지정\n",
        "    def __init__(self, num_x, num_yh, num_yo, bias=1):\n",
        "\n",
        "        # 입력값(num_x), 은닉층 초깃값(num_yh), 출력층 초깃값(num_yo), 바이어스\n",
        "        self.num_x = num_x + bias  # 바이어스는 1로 지정(본문 참조)\n",
        "        self.num_yh = num_yh\n",
        "        self.num_yo = num_yo\n",
        "\n",
        "        # 활성화 함수 초깃값\n",
        "        self.activation_input = [1.0] * self.num_x\n",
        "        self.activation_hidden = [1.0] * self.num_yh\n",
        "        self.activation_out = [1.0] * self.num_yo\n",
        "\n",
        "        # 가중치 입력 초깃값\n",
        "        self.weight_in = makeMatrix(self.num_x, self.num_yh)\n",
        "        for i in range(self.num_x):\n",
        "            for j in range(self.num_yh):\n",
        "                self.weight_in[i][j] = random.random()\n",
        "\n",
        "        # 가중치 출력 초깃값\n",
        "        self.weight_out = makeMatrix(self.num_yh, self.num_yo)\n",
        "        for j in range(self.num_yh):\n",
        "            for k in range(self.num_yo):\n",
        "                self.weight_out[j][k] = random.random()\n",
        "\n",
        "        # 모멘텀 SGD를 위한 이전 가중치 초깃값\n",
        "        self.gradient_in = makeMatrix(self.num_x, self.num_yh)\n",
        "        self.gradient_out = makeMatrix(self.num_yh, self.num_yo)\n",
        "\n",
        "    # 업데이트 함수\n",
        "    def update(self, inputs):\n",
        "\n",
        "        # 입력 레이어의 활성화 함수\n",
        "        for i in range(self.num_x - 1):\n",
        "            self.activation_input[i] = inputs[i]\n",
        "\n",
        "        # 은닉층의 활성화 함수\n",
        "        for j in range(self.num_yh):\n",
        "            sum = 0.0\n",
        "            for i in range(self.num_x):\n",
        "                sum = sum + self.activation_input[i] * self.weight_in[i][j]\n",
        "            # 시그모이드와 tanh 중에서 활성화 함수 선택\n",
        "            self.activation_hidden[j] = tanh(sum, False)\n",
        "\n",
        "        # 출력층의 활성화 함수\n",
        "        for k in range(self.num_yo):\n",
        "            sum = 0.0\n",
        "            for j in range(self.num_yh):\n",
        "                sum = sum + self.activation_hidden[j] * self.weight_out[j][k]\n",
        "            # 시그모이드와 tanh 중에서 활성화 함수 선택\n",
        "            self.activation_out[k] = tanh(sum, False)\n",
        "\n",
        "        return self.activation_out[:]\n",
        "    \n",
        "    # 역전파의 실행\n",
        "    def backPropagate(self, targets):\n",
        "\n",
        "        # 델타 출력 계산\n",
        "        output_deltas = [0.0] * self.num_yo\n",
        "        for k in range(self.num_yo):\n",
        "            error = targets[k] - self.activation_out[k]\n",
        "            # 시그모이드와 tanh 중에서 활성화 함수 선택, 미분 적용\n",
        "            output_deltas[k] = tanh(self.activation_out[k], True) * error\n",
        "\n",
        "        # 은닉 노드의 오차 함수\n",
        "        hidden_deltas = [0.0] * self.num_yh\n",
        "        for j in range(self.num_yh):\n",
        "            error = 0.0\n",
        "            for k in range(self.num_yo):\n",
        "                error = error + output_deltas[k] * self.weight_out[j][k]\n",
        "                # 시그모이드와 tanh 중에서 활성화 함수 선택, 미분 적용\n",
        "            hidden_deltas[j] = tanh(self.activation_hidden[j], True) * error\n",
        "\n",
        "        # 출력 가중치 업데이트\n",
        "        for j in range(self.num_yh):\n",
        "            for k in range(self.num_yo):\n",
        "                gradient = output_deltas[k] * self.activation_hidden[j]\n",
        "                v = mo * self.gradient_out[j][k] - lr * gradient\n",
        "                self.weight_out[j][k] += v\n",
        "                self.gradient_out[j][k] = gradient\n",
        "\n",
        "        # 입력 가중치 업데이트\n",
        "        for i in range(self.num_x):\n",
        "            for j in range(self.num_yh):\n",
        "                gradient = hidden_deltas[j] * self.activation_input[i]\n",
        "                v = mo*self.gradient_in[i][j] - lr * gradient\n",
        "                self.weight_in[i][j] += v\n",
        "                self.gradient_in[i][j] = gradient\n",
        "\n",
        "        # 오차의 계산(최소 제곱법)\n",
        "        error = 0.0\n",
        "        for k in range(len(targets)):\n",
        "            error = error + 0.5 * (targets[k] - self.activation_out[k]) ** 2\n",
        "        return error\n",
        "\n",
        "    # 학습 실행\n",
        "    def train(self, patterns):\n",
        "        for i in range(iterations):\n",
        "            error = 0.0\n",
        "            for p in patterns:\n",
        "                inputs = p[0]\n",
        "                targets = p[1]\n",
        "                self.update(inputs)\n",
        "                error = error + self.backPropagate(targets)\n",
        "            if i % 500 == 0:\n",
        "                print('error: %-.5f' % error)\n",
        "    # 결괏값 출력\n",
        "    def result(self, patterns):\n",
        "        for p in patterns:\n",
        "            print('Input: %s, Predict: %s' % (p[0], self.update(p[0])))\n"
      ],
      "execution_count": 0,
      "outputs": []
    },
    {
      "cell_type": "code",
      "metadata": {
        "id": "sokKeqcIKLuX",
        "colab_type": "code",
        "colab": {
          "base_uri": "https://localhost:8080/",
          "height": 260
        },
        "outputId": "25b81e25-e0b8-459c-84c6-4ab1259256c9"
      },
      "source": [
        "if __name__ == '__main__':\n",
        "\n",
        "    n = NeuralNetwork(2, 2, 1)\n",
        "\n",
        "    n.train(data)\n",
        "\n",
        "    n.result(data)"
      ],
      "execution_count": 19,
      "outputs": [
        {
          "output_type": "stream",
          "text": [
            "error: 0.66537\n",
            "error: 0.00263\n",
            "error: 0.00088\n",
            "error: 0.00051\n",
            "error: 0.00036\n",
            "error: 0.00027\n",
            "error: 0.00022\n",
            "error: 0.00018\n",
            "error: 0.00016\n",
            "error: 0.00014\n",
            "Input: [0, 0], Predict: [0.0006183430577839138]\n",
            "Input: [0, 1], Predict: [0.9889696478602483]\n",
            "Input: [1, 0], Predict: [0.9889970505963888]\n",
            "Input: [1, 1], Predict: [0.0021449252379751507]\n"
          ],
          "name": "stdout"
        }
      ]
    },
    {
      "cell_type": "code",
      "metadata": {
        "id": "nxdK0gDDLD3M",
        "colab_type": "code",
        "colab": {}
      },
      "source": [
        ""
      ],
      "execution_count": 0,
      "outputs": []
    }
  ]
}