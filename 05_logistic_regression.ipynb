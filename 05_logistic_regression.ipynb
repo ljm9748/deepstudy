{
  "nbformat": 4,
  "nbformat_minor": 0,
  "metadata": {
    "colab": {
      "name": "05_logistic_regression.ipynb",
      "provenance": [],
      "authorship_tag": "ABX9TyPszmKcz7q3YdevJitKSXIf",
      "include_colab_link": true
    },
    "kernelspec": {
      "name": "python3",
      "display_name": "Python 3"
    }
  },
  "cells": [
    {
      "cell_type": "markdown",
      "metadata": {
        "id": "view-in-github",
        "colab_type": "text"
      },
      "source": [
        "<a href=\"https://colab.research.google.com/github/ljm9748/deepstudy/blob/master/05_logistic_regression.ipynb\" target=\"_parent\"><img src=\"https://colab.research.google.com/assets/colab-badge.svg\" alt=\"Open In Colab\"/></a>"
      ]
    },
    {
      "cell_type": "code",
      "metadata": {
        "id": "svSbiyR-ma0X",
        "colab_type": "code",
        "colab": {}
      },
      "source": [
        "import numpy as np\n",
        "import pandas as pd\n",
        "import matplotlib.pyplot as plt"
      ],
      "execution_count": 0,
      "outputs": []
    },
    {
      "cell_type": "code",
      "metadata": {
        "id": "JdZBzQ1hpQgm",
        "colab_type": "code",
        "colab": {}
      },
      "source": [
        "x_data=[2,4,6,8,10,12,14]\n",
        "y_data=[0,0,0,1,1,1,1]"
      ],
      "execution_count": 0,
      "outputs": []
    },
    {
      "cell_type": "code",
      "metadata": {
        "id": "kWDdHy9Opc7t",
        "colab_type": "code",
        "outputId": "c8cd55f2-333e-4bd6-8fe5-73077c1101fc",
        "colab": {
          "base_uri": "https://localhost:8080/",
          "height": 283
        }
      },
      "source": [
        "plt.scatter(x_data, y_data)\n",
        "plt.xlim(0, 15)\n",
        "plt.ylim(-.1, 1.1)"
      ],
      "execution_count": 0,
      "outputs": [
        {
          "output_type": "execute_result",
          "data": {
            "text/plain": [
              "(-0.1, 1.1)"
            ]
          },
          "metadata": {
            "tags": []
          },
          "execution_count": 5
        },
        {
          "output_type": "display_data",
          "data": {
            "image/png": "[encoded data removed]",
            "text/plain": [
              "<Figure size 432x288 with 1 Axes>"
            ]
          },
          "metadata": {
            "tags": []
          }
        }
      ]
    },
    {
      "cell_type": "code",
      "metadata": {
        "id": "xOeTz8_upmpd",
        "colab_type": "code",
        "colab": {}
      },
      "source": [
        "a=0\n",
        "b=0\n",
        "lr=0.05"
      ],
      "execution_count": 0,
      "outputs": []
    },
    {
      "cell_type": "code",
      "metadata": {
        "id": "WWG4HwR0pvxS",
        "colab_type": "code",
        "colab": {}
      },
      "source": [
        "def sigmoid(x):\n",
        "  return 1/ (1+np.e**(-x))"
      ],
      "execution_count": 0,
      "outputs": []
    },
    {
      "cell_type": "code",
      "metadata": {
        "id": "8ofkbYD5p2VI",
        "colab_type": "code",
        "outputId": "5bff2946-5754-446a-8988-58ab484b1ebb",
        "colab": {
          "base_uri": "https://localhost:8080/",
          "height": 381
        }
      },
      "source": [
        "for i in range(2001):\n",
        "  for j in range(len(x_data)):\n",
        "    a_diff=x_data[j]* (sigmoid(a*x_data[j]+b)-y_data[j])\n",
        "    b_diff=sigmoid(a*x_data[j]+b)-y_data[j]\n",
        "    a=a-lr*a_diff\n",
        "    b=b-lr*b_diff\n",
        "    if i %1000==0:\n",
        "      print('epoch=%.f, 기울기=%.04f, 절편=%.04f' %(i, a, b))\n"
      ],
      "execution_count": 0,
      "outputs": [
        {
          "output_type": "stream",
          "text": [
            "epoch=0, 기울기=-0.0500, 절편=-0.0250\n",
            "epoch=0, 기울기=-0.1388, 절편=-0.0472\n",
            "epoch=0, 기울기=-0.2268, 절편=-0.0619\n",
            "epoch=0, 기울기=0.1201, 절편=-0.0185\n",
            "epoch=0, 기울기=0.2374, 절편=-0.0068\n",
            "epoch=0, 기울기=0.2705, 절편=-0.0040\n",
            "epoch=0, 기울기=0.2860, 절편=-0.0029\n",
            "epoch=1000, 기울기=1.4978, 절편=-9.9401\n",
            "epoch=1000, 기울기=1.4940, 절편=-9.9411\n",
            "epoch=1000, 기울기=1.4120, 절편=-9.9547\n",
            "epoch=1000, 기울기=1.4949, 절편=-9.9444\n",
            "epoch=1000, 기울기=1.4982, 절편=-9.9440\n",
            "epoch=1000, 기울기=1.4984, 절편=-9.9440\n",
            "epoch=1000, 기울기=1.4985, 절편=-9.9440\n",
            "epoch=2000, 기울기=1.9065, 절편=-12.9489\n",
            "epoch=2000, 기울기=1.9055, 절편=-12.9491\n",
            "epoch=2000, 기울기=1.8515, 절편=-12.9581\n",
            "epoch=2000, 기울기=1.9057, 절편=-12.9514\n",
            "epoch=2000, 기울기=1.9068, 절편=-12.9513\n",
            "epoch=2000, 기울기=1.9068, 절편=-12.9513\n",
            "epoch=2000, 기울기=1.9068, 절편=-12.9513\n"
          ],
          "name": "stdout"
        }
      ]
    },
    {
      "cell_type": "code",
      "metadata": {
        "id": "84aWgTdfrGXR",
        "colab_type": "code",
        "outputId": "1b1d1f87-5235-449d-fa3f-56b8ef245abf",
        "colab": {
          "base_uri": "https://localhost:8080/",
          "height": 265
        }
      },
      "source": [
        "plt.scatter(x_data ,y_data)\n",
        "plt.xlim(0, 15)\n",
        "plt.ylim(-.1, 1.1)\n",
        "x_range=(np.arange(0, 15, 0.1))\n",
        "plt.plot(np.arange(0, 15, 0.1), np.array([sigmoid(a*x + b) for x in x_range]))\n",
        "plt.show()"
      ],
      "execution_count": 14,
      "outputs": [
        {
          "output_type": "display_data",
          "data": {
            "image/png": "[encoded data removed]",
            "text/plain": [
              "<Figure size 432x288 with 1 Axes>"
            ]
          },
          "metadata": {
            "tags": []
          }
        }
      ]
    },
    {
      "cell_type": "code",
      "metadata": {
        "id": "_ZUm2GANsRzb",
        "colab_type": "code",
        "colab": {}
      },
      "source": [
        ""
      ],
      "execution_count": 0,
      "outputs": []
    }
  ]
}