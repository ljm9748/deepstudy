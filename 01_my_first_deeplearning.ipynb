{
  "nbformat": 4,
  "nbformat_minor": 0,
  "metadata": {
    "colab": {
      "name": "01_my_first_deeplearning.ipynb",
      "provenance": [],
      "authorship_tag": "ABX9TyOfhtlMZssUtq3ZHelka7fc",
      "include_colab_link": true
    },
    "kernelspec": {
      "name": "python3",
      "display_name": "Python 3"
    }
  },
  "cells": [
    {
      "cell_type": "markdown",
      "metadata": {
        "id": "view-in-github",
        "colab_type": "text"
      },
      "source": [
        "<a href=\"https://colab.research.google.com/github/ljm9748/deepstudy/blob/master/01_my_first_deeplearning.ipynb\" target=\"_parent\"><img src=\"https://colab.research.google.com/assets/colab-badge.svg\" alt=\"Open In Colab\"/></a>"
      ]
    },
    {
      "cell_type": "code",
      "metadata": {
        "id": "bSaUkm69ODku",
        "colab_type": "code",
        "colab": {
          "base_uri": "https://localhost:8080/",
          "height": 124
        },
        "outputId": "ea17c9b8-ac33-4d90-f076-6da7edd7724b"
      },
      "source": [
        "from google.colab import drive\n",
        "drive.mount('/content/gdrive')"
      ],
      "execution_count": 1,
      "outputs": [
        {
          "output_type": "stream",
          "text": [
            "Go to this URL in a browser: https://accounts.google.com/o/oauth2/auth?client_id=947318989803-6bn6qk8qdgf4n4g3pfee6491hc0brc4i.apps.googleusercontent.com&redirect_uri=urn%3aietf%3awg%3aoauth%3a2.0%3aoob&response_type=code&scope=email%20https%3a%2f%2fwww.googleapis.com%2fauth%2fdocs.test%20https%3a%2f%2fwww.googleapis.com%2fauth%2fdrive%20https%3a%2f%2fwww.googleapis.com%2fauth%2fdrive.photos.readonly%20https%3a%2f%2fwww.googleapis.com%2fauth%2fpeopleapi.readonly\n",
            "\n",
            "Enter your authorization code:\n",
            "··········\n",
            "Mounted at /content/gdrive\n"
          ],
          "name": "stdout"
        }
      ]
    },
    {
      "cell_type": "code",
      "metadata": {
        "id": "UEz_8lJ0QxTd",
        "colab_type": "code",
        "colab": {}
      },
      "source": [
        "data_path='/content/gdrive/My Drive/Colab Notebooks/deepstudy/deeplearning/dataset'\n",
        "import pandas as pd"
      ],
      "execution_count": 0,
      "outputs": []
    },
    {
      "cell_type": "code",
      "metadata": {
        "id": "blcA6yy0RL2U",
        "colab_type": "code",
        "colab": {
          "base_uri": "https://localhost:8080/",
          "height": 956
        },
        "outputId": "4d11edd6-512e-4a65-cd39-47f131c4c923"
      },
      "source": [
        "!pip install tensorflow==2.1.0"
      ],
      "execution_count": 4,
      "outputs": [
        {
          "output_type": "stream",
          "text": [
            "Collecting tensorflow==2.1.0\n",
            "\u001b[?25l  Downloading https://files.pythonhosted.org/packages/85/d4/c0cd1057b331bc38b65478302114194bd8e1b9c2bbc06e300935c0e93d90/tensorflow-2.1.0-cp36-cp36m-manylinux2010_x86_64.whl (421.8MB)\n",
            "\u001b[K     |████████████████████████████████| 421.8MB 35kB/s \n",
            "\u001b[?25hCollecting tensorflow-estimator<2.2.0,>=2.1.0rc0\n",
            "\u001b[?25l  Downloading https://files.pythonhosted.org/packages/18/90/b77c328a1304437ab1310b463e533fa7689f4bfc41549593056d812fab8e/tensorflow_estimator-2.1.0-py2.py3-none-any.whl (448kB)\n",
            "\u001b[K     |████████████████████████████████| 450kB 61.0MB/s \n",
            "\u001b[?25hRequirement already satisfied: scipy==1.4.1; python_version >= \"3\" in /usr/local/lib/python3.6/dist-packages (from tensorflow==2.1.0) (1.4.1)\n",
            "Requirement already satisfied: gast==0.2.2 in /usr/local/lib/python3.6/dist-packages (from tensorflow==2.1.0) (0.2.2)\n",
            "Requirement already satisfied: wrapt>=1.11.1 in /usr/local/lib/python3.6/dist-packages (from tensorflow==2.1.0) (1.12.1)\n",
            "Requirement already satisfied: google-pasta>=0.1.6 in /usr/local/lib/python3.6/dist-packages (from tensorflow==2.1.0) (0.2.0)\n",
            "Requirement already satisfied: termcolor>=1.1.0 in /usr/local/lib/python3.6/dist-packages (from tensorflow==2.1.0) (1.1.0)\n",
            "Requirement already satisfied: grpcio>=1.8.6 in /usr/local/lib/python3.6/dist-packages (from tensorflow==2.1.0) (1.24.3)\n",
            "Requirement already satisfied: keras-preprocessing>=1.1.0 in /usr/local/lib/python3.6/dist-packages (from tensorflow==2.1.0) (1.1.0)\n",
            "Requirement already satisfied: numpy<2.0,>=1.16.0 in /usr/local/lib/python3.6/dist-packages (from tensorflow==2.1.0) (1.18.2)\n",
            "Requirement already satisfied: wheel>=0.26; python_version >= \"3\" in /usr/local/lib/python3.6/dist-packages (from tensorflow==2.1.0) (0.34.2)\n",
            "Requirement already satisfied: six>=1.12.0 in /usr/local/lib/python3.6/dist-packages (from tensorflow==2.1.0) (1.12.0)\n",
            "Requirement already satisfied: opt-einsum>=2.3.2 in /usr/local/lib/python3.6/dist-packages (from tensorflow==2.1.0) (3.2.0)\n",
            "Requirement already satisfied: protobuf>=3.8.0 in /usr/local/lib/python3.6/dist-packages (from tensorflow==2.1.0) (3.10.0)\n",
            "Requirement already satisfied: astor>=0.6.0 in /usr/local/lib/python3.6/dist-packages (from tensorflow==2.1.0) (0.8.1)\n",
            "Requirement already satisfied: keras-applications>=1.0.8 in /usr/local/lib/python3.6/dist-packages (from tensorflow==2.1.0) (1.0.8)\n",
            "Requirement already satisfied: absl-py>=0.7.0 in /usr/local/lib/python3.6/dist-packages (from tensorflow==2.1.0) (0.9.0)\n",
            "Collecting tensorboard<2.2.0,>=2.1.0\n",
            "\u001b[?25l  Downloading https://files.pythonhosted.org/packages/d9/41/bbf49b61370e4f4d245d4c6051dfb6db80cec672605c91b1652ac8cc3d38/tensorboard-2.1.1-py3-none-any.whl (3.8MB)\n",
            "\u001b[K     |████████████████████████████████| 3.9MB 45.3MB/s \n",
            "\u001b[?25hRequirement already satisfied: setuptools in /usr/local/lib/python3.6/dist-packages (from protobuf>=3.8.0->tensorflow==2.1.0) (46.0.0)\n",
            "Requirement already satisfied: h5py in /usr/local/lib/python3.6/dist-packages (from keras-applications>=1.0.8->tensorflow==2.1.0) (2.8.0)\n",
            "Requirement already satisfied: google-auth-oauthlib<0.5,>=0.4.1 in /usr/local/lib/python3.6/dist-packages (from tensorboard<2.2.0,>=2.1.0->tensorflow==2.1.0) (0.4.1)\n",
            "Requirement already satisfied: requests<3,>=2.21.0 in /usr/local/lib/python3.6/dist-packages (from tensorboard<2.2.0,>=2.1.0->tensorflow==2.1.0) (2.21.0)\n",
            "Requirement already satisfied: google-auth<2,>=1.6.3 in /usr/local/lib/python3.6/dist-packages (from tensorboard<2.2.0,>=2.1.0->tensorflow==2.1.0) (1.7.2)\n",
            "Requirement already satisfied: markdown>=2.6.8 in /usr/local/lib/python3.6/dist-packages (from tensorboard<2.2.0,>=2.1.0->tensorflow==2.1.0) (3.2.1)\n",
            "Requirement already satisfied: werkzeug>=0.11.15 in /usr/local/lib/python3.6/dist-packages (from tensorboard<2.2.0,>=2.1.0->tensorflow==2.1.0) (1.0.0)\n",
            "Requirement already satisfied: requests-oauthlib>=0.7.0 in /usr/local/lib/python3.6/dist-packages (from google-auth-oauthlib<0.5,>=0.4.1->tensorboard<2.2.0,>=2.1.0->tensorflow==2.1.0) (1.3.0)\n",
            "Requirement already satisfied: idna<2.9,>=2.5 in /usr/local/lib/python3.6/dist-packages (from requests<3,>=2.21.0->tensorboard<2.2.0,>=2.1.0->tensorflow==2.1.0) (2.8)\n",
            "Requirement already satisfied: urllib3<1.25,>=1.21.1 in /usr/local/lib/python3.6/dist-packages (from requests<3,>=2.21.0->tensorboard<2.2.0,>=2.1.0->tensorflow==2.1.0) (1.24.3)\n",
            "Requirement already satisfied: chardet<3.1.0,>=3.0.2 in /usr/local/lib/python3.6/dist-packages (from requests<3,>=2.21.0->tensorboard<2.2.0,>=2.1.0->tensorflow==2.1.0) (3.0.4)\n",
            "Requirement already satisfied: certifi>=2017.4.17 in /usr/local/lib/python3.6/dist-packages (from requests<3,>=2.21.0->tensorboard<2.2.0,>=2.1.0->tensorflow==2.1.0) (2019.11.28)\n",
            "Requirement already satisfied: cachetools<3.2,>=2.0.0 in /usr/local/lib/python3.6/dist-packages (from google-auth<2,>=1.6.3->tensorboard<2.2.0,>=2.1.0->tensorflow==2.1.0) (3.1.1)\n",
            "Requirement already satisfied: pyasn1-modules>=0.2.1 in /usr/local/lib/python3.6/dist-packages (from google-auth<2,>=1.6.3->tensorboard<2.2.0,>=2.1.0->tensorflow==2.1.0) (0.2.8)\n",
            "Requirement already satisfied: rsa<4.1,>=3.1.4 in /usr/local/lib/python3.6/dist-packages (from google-auth<2,>=1.6.3->tensorboard<2.2.0,>=2.1.0->tensorflow==2.1.0) (4.0)\n",
            "Requirement already satisfied: oauthlib>=3.0.0 in /usr/local/lib/python3.6/dist-packages (from requests-oauthlib>=0.7.0->google-auth-oauthlib<0.5,>=0.4.1->tensorboard<2.2.0,>=2.1.0->tensorflow==2.1.0) (3.1.0)\n",
            "Requirement already satisfied: pyasn1<0.5.0,>=0.4.6 in /usr/local/lib/python3.6/dist-packages (from pyasn1-modules>=0.2.1->google-auth<2,>=1.6.3->tensorboard<2.2.0,>=2.1.0->tensorflow==2.1.0) (0.4.8)\n",
            "\u001b[31mERROR: tensorflow-federated 0.12.0 has requirement tensorflow-addons~=0.7.0, but you'll have tensorflow-addons 0.8.3 which is incompatible.\u001b[0m\n",
            "Installing collected packages: tensorflow-estimator, tensorboard, tensorflow\n",
            "  Found existing installation: tensorflow-estimator 1.15.1\n",
            "    Uninstalling tensorflow-estimator-1.15.1:\n",
            "      Successfully uninstalled tensorflow-estimator-1.15.1\n",
            "  Found existing installation: tensorboard 1.15.0\n",
            "    Uninstalling tensorboard-1.15.0:\n",
            "      Successfully uninstalled tensorboard-1.15.0\n",
            "  Found existing installation: tensorflow 1.15.0\n",
            "    Uninstalling tensorflow-1.15.0:\n",
            "      Successfully uninstalled tensorflow-1.15.0\n",
            "Successfully installed tensorboard-2.1.1 tensorflow-2.1.0 tensorflow-estimator-2.1.0\n"
          ],
          "name": "stdout"
        }
      ]
    },
    {
      "cell_type": "code",
      "metadata": {
        "id": "WqcobM1uRY14",
        "colab_type": "code",
        "colab": {}
      },
      "source": [
        "from tensorflow.keras.models import Sequential\n",
        "from tensorflow.keras.layers import Dense\n",
        "import numpy as np\n",
        "import tensorflow as tf"
      ],
      "execution_count": 0,
      "outputs": []
    },
    {
      "cell_type": "code",
      "metadata": {
        "id": "kGOs3vuZR2A3",
        "colab_type": "code",
        "colab": {}
      },
      "source": [
        "myseed=3"
      ],
      "execution_count": 0,
      "outputs": []
    },
    {
      "cell_type": "code",
      "metadata": {
        "id": "o6y9AK5nR6hL",
        "colab_type": "code",
        "colab": {}
      },
      "source": [
        "np.random.seed(myseed)\n",
        "tf.random.set_seed(myseed)"
      ],
      "execution_count": 0,
      "outputs": []
    },
    {
      "cell_type": "code",
      "metadata": {
        "id": "Kaa27JkxSBMO",
        "colab_type": "code",
        "colab": {}
      },
      "source": [
        "dataset=np.loadtxt(data_path+'/ThoraricSurgery.csv', delimiter=\",\")"
      ],
      "execution_count": 0,
      "outputs": []
    },
    {
      "cell_type": "code",
      "metadata": {
        "id": "x6sHdFkeSSkp",
        "colab_type": "code",
        "colab": {
          "base_uri": "https://localhost:8080/",
          "height": 139
        },
        "outputId": "2852fd83-2255-4dbd-8aee-c9a106f73863"
      },
      "source": [
        "dataset"
      ],
      "execution_count": 16,
      "outputs": [
        {
          "output_type": "execute_result",
          "data": {
            "text/plain": [
              "array([[293.  ,   1.  ,   3.8 , ...,   0.  ,  62.  ,   0.  ],\n",
              "       [  1.  ,   2.  ,   2.88, ...,   0.  ,  60.  ,   0.  ],\n",
              "       [  8.  ,   2.  ,   3.19, ...,   0.  ,  66.  ,   1.  ],\n",
              "       ...,\n",
              "       [406.  ,   6.  ,   5.36, ...,   0.  ,  62.  ,   0.  ],\n",
              "       [ 25.  ,   8.  ,   4.32, ...,   0.  ,  58.  ,   1.  ],\n",
              "       [447.  ,   8.  ,   5.2 , ...,   0.  ,  49.  ,   0.  ]])"
            ]
          },
          "metadata": {
            "tags": []
          },
          "execution_count": 16
        }
      ]
    },
    {
      "cell_type": "code",
      "metadata": {
        "id": "PKW7D3y_W76l",
        "colab_type": "code",
        "colab": {}
      },
      "source": [
        "X=dataset[:, 0:17]\n",
        "Y=dataset[:, 17]"
      ],
      "execution_count": 0,
      "outputs": []
    },
    {
      "cell_type": "code",
      "metadata": {
        "id": "u50FEkIJSsI7",
        "colab_type": "code",
        "colab": {}
      },
      "source": [
        "model=Sequential()\n",
        "model.add(Dense(30, input_dim=17, activation='relu'))\n",
        "#Dense(이번층에 노드 몇개?, input_dim:입력데이터에서 값 몇개 가져올지/ 첫층을 은닉+입력층으로, 활성화함수)\n",
        "model.add(Dense(1, activation='sigmoid'))"
      ],
      "execution_count": 0,
      "outputs": []
    },
    {
      "cell_type": "code",
      "metadata": {
        "id": "S2JjQhvsUEpU",
        "colab_type": "code",
        "colab": {}
      },
      "source": [
        "model.compile(loss='mean_squared_error', optimizer='adam', metrics=['accuracy'])"
      ],
      "execution_count": 0,
      "outputs": []
    },
    {
      "cell_type": "code",
      "metadata": {
        "id": "uTYWIr4QU7-F",
        "colab_type": "code",
        "colab": {
          "base_uri": "https://localhost:8080/",
          "height": 1000
        },
        "outputId": "ec98634b-8962-404e-8a42-370a716b7376"
      },
      "source": [
        "  model.fit(X, Y, epochs=100, batch_size=10)"
      ],
      "execution_count": 24,
      "outputs": [
        {
          "output_type": "stream",
          "text": [
            "Train on 470 samples\n",
            "Epoch 1/100\n",
            "470/470 [==============================] - 0s 691us/sample - loss: 0.8509 - accuracy: 0.1489\n",
            "Epoch 2/100\n",
            "470/470 [==============================] - 0s 161us/sample - loss: 0.7941 - accuracy: 0.2000\n",
            "Epoch 3/100\n",
            "470/470 [==============================] - 0s 163us/sample - loss: 0.6896 - accuracy: 0.3043\n",
            "Epoch 4/100\n",
            "470/470 [==============================] - 0s 163us/sample - loss: 0.2543 - accuracy: 0.7362\n",
            "Epoch 5/100\n",
            "470/470 [==============================] - 0s 170us/sample - loss: 0.1489 - accuracy: 0.8511\n",
            "Epoch 6/100\n",
            "470/470 [==============================] - 0s 165us/sample - loss: 0.1489 - accuracy: 0.8511\n",
            "Epoch 7/100\n",
            "470/470 [==============================] - 0s 154us/sample - loss: 0.1489 - accuracy: 0.8511\n",
            "Epoch 8/100\n",
            "470/470 [==============================] - 0s 151us/sample - loss: 0.1489 - accuracy: 0.8511\n",
            "Epoch 9/100\n",
            "470/470 [==============================] - 0s 172us/sample - loss: 0.1489 - accuracy: 0.8511\n",
            "Epoch 10/100\n",
            "470/470 [==============================] - 0s 144us/sample - loss: 0.1489 - accuracy: 0.8511\n",
            "Epoch 11/100\n",
            "470/470 [==============================] - 0s 158us/sample - loss: 0.1489 - accuracy: 0.8511\n",
            "Epoch 12/100\n",
            "470/470 [==============================] - 0s 150us/sample - loss: 0.1489 - accuracy: 0.8511\n",
            "Epoch 13/100\n",
            "470/470 [==============================] - 0s 158us/sample - loss: 0.1489 - accuracy: 0.8511\n",
            "Epoch 14/100\n",
            "470/470 [==============================] - 0s 153us/sample - loss: 0.1489 - accuracy: 0.8511\n",
            "Epoch 15/100\n",
            "470/470 [==============================] - 0s 158us/sample - loss: 0.1489 - accuracy: 0.8511\n",
            "Epoch 16/100\n",
            "470/470 [==============================] - 0s 161us/sample - loss: 0.1489 - accuracy: 0.8511\n",
            "Epoch 17/100\n",
            "470/470 [==============================] - 0s 147us/sample - loss: 0.1489 - accuracy: 0.8511\n",
            "Epoch 18/100\n",
            "470/470 [==============================] - 0s 148us/sample - loss: 0.1489 - accuracy: 0.8511\n",
            "Epoch 19/100\n",
            "470/470 [==============================] - 0s 143us/sample - loss: 0.1489 - accuracy: 0.8511\n",
            "Epoch 20/100\n",
            "470/470 [==============================] - 0s 173us/sample - loss: 0.1489 - accuracy: 0.8511\n",
            "Epoch 21/100\n",
            "470/470 [==============================] - 0s 163us/sample - loss: 0.1489 - accuracy: 0.8511\n",
            "Epoch 22/100\n",
            "470/470 [==============================] - 0s 149us/sample - loss: 0.1489 - accuracy: 0.8511\n",
            "Epoch 23/100\n",
            "470/470 [==============================] - 0s 150us/sample - loss: 0.1489 - accuracy: 0.8511\n",
            "Epoch 24/100\n",
            "470/470 [==============================] - 0s 151us/sample - loss: 0.1489 - accuracy: 0.8511\n",
            "Epoch 25/100\n",
            "470/470 [==============================] - 0s 175us/sample - loss: 0.1489 - accuracy: 0.8511\n",
            "Epoch 26/100\n",
            "470/470 [==============================] - 0s 157us/sample - loss: 0.1489 - accuracy: 0.8511\n",
            "Epoch 27/100\n",
            "470/470 [==============================] - 0s 152us/sample - loss: 0.1489 - accuracy: 0.8511\n",
            "Epoch 28/100\n",
            "470/470 [==============================] - 0s 138us/sample - loss: 0.1489 - accuracy: 0.8511\n",
            "Epoch 29/100\n",
            "470/470 [==============================] - 0s 155us/sample - loss: 0.1489 - accuracy: 0.8511\n",
            "Epoch 30/100\n",
            "470/470 [==============================] - 0s 152us/sample - loss: 0.1489 - accuracy: 0.8511\n",
            "Epoch 31/100\n",
            "470/470 [==============================] - 0s 170us/sample - loss: 0.1489 - accuracy: 0.8511\n",
            "Epoch 32/100\n",
            "470/470 [==============================] - 0s 162us/sample - loss: 0.1489 - accuracy: 0.8511\n",
            "Epoch 33/100\n",
            "470/470 [==============================] - 0s 173us/sample - loss: 0.1489 - accuracy: 0.8511\n",
            "Epoch 34/100\n",
            "470/470 [==============================] - 0s 141us/sample - loss: 0.1489 - accuracy: 0.8511\n",
            "Epoch 35/100\n",
            "470/470 [==============================] - 0s 150us/sample - loss: 0.1489 - accuracy: 0.8511\n",
            "Epoch 36/100\n",
            "470/470 [==============================] - 0s 142us/sample - loss: 0.1489 - accuracy: 0.8511\n",
            "Epoch 37/100\n",
            "470/470 [==============================] - 0s 170us/sample - loss: 0.1489 - accuracy: 0.8511\n",
            "Epoch 38/100\n",
            "470/470 [==============================] - 0s 145us/sample - loss: 0.1489 - accuracy: 0.8511\n",
            "Epoch 39/100\n",
            "470/470 [==============================] - 0s 148us/sample - loss: 0.1489 - accuracy: 0.8511\n",
            "Epoch 40/100\n",
            "470/470 [==============================] - 0s 157us/sample - loss: 0.1489 - accuracy: 0.8511\n",
            "Epoch 41/100\n",
            "470/470 [==============================] - 0s 156us/sample - loss: 0.1489 - accuracy: 0.8511\n",
            "Epoch 42/100\n",
            "470/470 [==============================] - 0s 170us/sample - loss: 0.1489 - accuracy: 0.8511\n",
            "Epoch 43/100\n",
            "470/470 [==============================] - 0s 146us/sample - loss: 0.1489 - accuracy: 0.8511\n",
            "Epoch 44/100\n",
            "470/470 [==============================] - 0s 171us/sample - loss: 0.1489 - accuracy: 0.8511\n",
            "Epoch 45/100\n",
            "470/470 [==============================] - 0s 165us/sample - loss: 0.1489 - accuracy: 0.8511\n",
            "Epoch 46/100\n",
            "470/470 [==============================] - 0s 154us/sample - loss: 0.1489 - accuracy: 0.8511\n",
            "Epoch 47/100\n",
            "470/470 [==============================] - 0s 159us/sample - loss: 0.1489 - accuracy: 0.8511\n",
            "Epoch 48/100\n",
            "470/470 [==============================] - 0s 151us/sample - loss: 0.1489 - accuracy: 0.8511\n",
            "Epoch 49/100\n",
            "470/470 [==============================] - 0s 169us/sample - loss: 0.1489 - accuracy: 0.8511\n",
            "Epoch 50/100\n",
            "470/470 [==============================] - 0s 173us/sample - loss: 0.1489 - accuracy: 0.8511\n",
            "Epoch 51/100\n",
            "470/470 [==============================] - 0s 139us/sample - loss: 0.1489 - accuracy: 0.8511\n",
            "Epoch 52/100\n",
            "470/470 [==============================] - 0s 147us/sample - loss: 0.1489 - accuracy: 0.8511\n",
            "Epoch 53/100\n",
            "470/470 [==============================] - 0s 148us/sample - loss: 0.1489 - accuracy: 0.8511\n",
            "Epoch 54/100\n",
            "470/470 [==============================] - 0s 168us/sample - loss: 0.1489 - accuracy: 0.8511\n",
            "Epoch 55/100\n",
            "470/470 [==============================] - 0s 149us/sample - loss: 0.1489 - accuracy: 0.8511\n",
            "Epoch 56/100\n",
            "470/470 [==============================] - 0s 170us/sample - loss: 0.1489 - accuracy: 0.8511\n",
            "Epoch 57/100\n",
            "470/470 [==============================] - 0s 155us/sample - loss: 0.1489 - accuracy: 0.8511\n",
            "Epoch 58/100\n",
            "470/470 [==============================] - 0s 163us/sample - loss: 0.1489 - accuracy: 0.8511\n",
            "Epoch 59/100\n",
            "470/470 [==============================] - 0s 154us/sample - loss: 0.1489 - accuracy: 0.8511\n",
            "Epoch 60/100\n",
            "470/470 [==============================] - 0s 150us/sample - loss: 0.1489 - accuracy: 0.8511\n",
            "Epoch 61/100\n",
            "470/470 [==============================] - 0s 162us/sample - loss: 0.1489 - accuracy: 0.8511\n",
            "Epoch 62/100\n",
            "470/470 [==============================] - 0s 150us/sample - loss: 0.1489 - accuracy: 0.8511\n",
            "Epoch 63/100\n",
            "470/470 [==============================] - 0s 145us/sample - loss: 0.1489 - accuracy: 0.8511\n",
            "Epoch 64/100\n",
            "470/470 [==============================] - 0s 153us/sample - loss: 0.1489 - accuracy: 0.8511\n",
            "Epoch 65/100\n",
            "470/470 [==============================] - 0s 164us/sample - loss: 0.1489 - accuracy: 0.8511\n",
            "Epoch 66/100\n",
            "470/470 [==============================] - 0s 148us/sample - loss: 0.1489 - accuracy: 0.8511\n",
            "Epoch 67/100\n",
            "470/470 [==============================] - 0s 155us/sample - loss: 0.1489 - accuracy: 0.8511\n",
            "Epoch 68/100\n",
            "470/470 [==============================] - 0s 166us/sample - loss: 0.1489 - accuracy: 0.8511\n",
            "Epoch 69/100\n",
            "470/470 [==============================] - 0s 161us/sample - loss: 0.1489 - accuracy: 0.8511\n",
            "Epoch 70/100\n",
            "470/470 [==============================] - 0s 167us/sample - loss: 0.1489 - accuracy: 0.8511\n",
            "Epoch 71/100\n",
            "470/470 [==============================] - 0s 157us/sample - loss: 0.1489 - accuracy: 0.8511\n",
            "Epoch 72/100\n",
            "470/470 [==============================] - 0s 144us/sample - loss: 0.1489 - accuracy: 0.8511\n",
            "Epoch 73/100\n",
            "470/470 [==============================] - 0s 151us/sample - loss: 0.1489 - accuracy: 0.8511\n",
            "Epoch 74/100\n",
            "470/470 [==============================] - 0s 163us/sample - loss: 0.1489 - accuracy: 0.8511\n",
            "Epoch 75/100\n",
            "470/470 [==============================] - 0s 150us/sample - loss: 0.1489 - accuracy: 0.8511\n",
            "Epoch 76/100\n",
            "470/470 [==============================] - 0s 143us/sample - loss: 0.1489 - accuracy: 0.8511\n",
            "Epoch 77/100\n",
            "470/470 [==============================] - 0s 160us/sample - loss: 0.1489 - accuracy: 0.8511\n",
            "Epoch 78/100\n",
            "470/470 [==============================] - 0s 158us/sample - loss: 0.1489 - accuracy: 0.8511\n",
            "Epoch 79/100\n",
            "470/470 [==============================] - 0s 151us/sample - loss: 0.1489 - accuracy: 0.8511\n",
            "Epoch 80/100\n",
            "470/470 [==============================] - 0s 153us/sample - loss: 0.1489 - accuracy: 0.8511\n",
            "Epoch 81/100\n",
            "470/470 [==============================] - 0s 208us/sample - loss: 0.1489 - accuracy: 0.8511\n",
            "Epoch 82/100\n",
            "470/470 [==============================] - 0s 167us/sample - loss: 0.1489 - accuracy: 0.8511\n",
            "Epoch 83/100\n",
            "470/470 [==============================] - 0s 176us/sample - loss: 0.1489 - accuracy: 0.8511\n",
            "Epoch 84/100\n",
            "470/470 [==============================] - 0s 158us/sample - loss: 0.1489 - accuracy: 0.8511\n",
            "Epoch 85/100\n",
            "470/470 [==============================] - 0s 149us/sample - loss: 0.1489 - accuracy: 0.8511\n",
            "Epoch 86/100\n",
            "470/470 [==============================] - 0s 161us/sample - loss: 0.1489 - accuracy: 0.8511\n",
            "Epoch 87/100\n",
            "470/470 [==============================] - 0s 144us/sample - loss: 0.1489 - accuracy: 0.8511\n",
            "Epoch 88/100\n",
            "470/470 [==============================] - 0s 146us/sample - loss: 0.1489 - accuracy: 0.8511\n",
            "Epoch 89/100\n",
            "470/470 [==============================] - 0s 146us/sample - loss: 0.1489 - accuracy: 0.8511\n",
            "Epoch 90/100\n",
            "470/470 [==============================] - 0s 153us/sample - loss: 0.1489 - accuracy: 0.8511\n",
            "Epoch 91/100\n",
            "470/470 [==============================] - 0s 153us/sample - loss: 0.1489 - accuracy: 0.8511\n",
            "Epoch 92/100\n",
            "470/470 [==============================] - 0s 158us/sample - loss: 0.1489 - accuracy: 0.8511\n",
            "Epoch 93/100\n",
            "470/470 [==============================] - 0s 157us/sample - loss: 0.1489 - accuracy: 0.8511\n",
            "Epoch 94/100\n",
            "470/470 [==============================] - 0s 166us/sample - loss: 0.1489 - accuracy: 0.8511\n",
            "Epoch 95/100\n",
            "470/470 [==============================] - 0s 153us/sample - loss: 0.1489 - accuracy: 0.8511\n",
            "Epoch 96/100\n",
            "470/470 [==============================] - 0s 146us/sample - loss: 0.1489 - accuracy: 0.8511\n",
            "Epoch 97/100\n",
            "470/470 [==============================] - 0s 154us/sample - loss: 0.1489 - accuracy: 0.8511\n",
            "Epoch 98/100\n",
            "470/470 [==============================] - 0s 164us/sample - loss: 0.1489 - accuracy: 0.8511\n",
            "Epoch 99/100\n",
            "470/470 [==============================] - 0s 155us/sample - loss: 0.1489 - accuracy: 0.8511\n",
            "Epoch 100/100\n",
            "470/470 [==============================] - 0s 156us/sample - loss: 0.1489 - accuracy: 0.8511\n"
          ],
          "name": "stdout"
        },
        {
          "output_type": "execute_result",
          "data": {
            "text/plain": [
              "<tensorflow.python.keras.callbacks.History at 0x7fd129ca25c0>"
            ]
          },
          "metadata": {
            "tags": []
          },
          "execution_count": 24
        }
      ]
    },
    {
      "cell_type": "code",
      "metadata": {
        "id": "-K_Gn8n_Wud7",
        "colab_type": "code",
        "colab": {}
      },
      "source": [
        ""
      ],
      "execution_count": 0,
      "outputs": []
    }
  ]
}