{
  "nbformat": 4,
  "nbformat_minor": 0,
  "metadata": {
    "colab": {
      "name": "numpy.ipynb",
      "provenance": [],
      "authorship_tag": "ABX9TyOwI2OzGSFqIDUG6lF8ItBb",
      "include_colab_link": true
    },
    "kernelspec": {
      "name": "python3",
      "display_name": "Python 3"
    }
  },
  "cells": [
    {
      "cell_type": "markdown",
      "metadata": {
        "id": "view-in-github",
        "colab_type": "text"
      },
      "source": [
        "<a href=\"https://colab.research.google.com/github/ljm9748/deepstudy/blob/master/numpy.ipynb\" target=\"_parent\"><img src=\"https://colab.research.google.com/assets/colab-badge.svg\" alt=\"Open In Colab\"/></a>"
      ]
    },
    {
      "cell_type": "markdown",
      "metadata": {
        "id": "-yeK_mqM0fvi",
        "colab_type": "text"
      },
      "source": [
        "Write a NumPy program to create a 8x8 matrix and fill it with a checkerboard pattern."
      ]
    },
    {
      "cell_type": "code",
      "metadata": {
        "id": "46jpjk9d0X2o",
        "colab_type": "code",
        "colab": {
          "base_uri": "https://localhost:8080/",
          "height": 173
        },
        "outputId": "df8f2235-23ac-4208-d04b-9e4c7c33d6ff"
      },
      "source": [
        "import numpy as np\n",
        "x = np.ones((3,3))\n",
        "print(\"Checkerboard pattern:\")\n",
        "x = np.zeros((8,8),dtype=int)\n",
        "x[1::2,::2] = 1\n",
        "x[::2,1::2] = 1\n",
        "print(x)"
      ],
      "execution_count": 1,
      "outputs": [
        {
          "output_type": "stream",
          "text": [
            "Checkerboard pattern:\n",
            "[[0 1 0 1 0 1 0 1]\n",
            " [1 0 1 0 1 0 1 0]\n",
            " [0 1 0 1 0 1 0 1]\n",
            " [1 0 1 0 1 0 1 0]\n",
            " [0 1 0 1 0 1 0 1]\n",
            " [1 0 1 0 1 0 1 0]\n",
            " [0 1 0 1 0 1 0 1]\n",
            " [1 0 1 0 1 0 1 0]]\n"
          ],
          "name": "stdout"
        }
      ]
    },
    {
      "cell_type": "markdown",
      "metadata": {
        "id": "yMWNvU_o0rcI",
        "colab_type": "text"
      },
      "source": [
        "Write a NumPy program to find the set difference of two arrays. The set difference will return the sorted, unique values in array1 that are not in array2."
      ]
    },
    {
      "cell_type": "code",
      "metadata": {
        "id": "TobFiFXH0c1Z",
        "colab_type": "code",
        "colab": {
          "base_uri": "https://localhost:8080/",
          "height": 87
        },
        "outputId": "137a6944-246f-42c8-9cdb-bd096690db1b"
      },
      "source": [
        "import numpy as np\n",
        "array1 = np.array([0, 10, 20, 40, 60, 80])\n",
        "print(\"Array1: \",array1)\n",
        "array2 = [10, 30, 40, 50, 70]\n",
        "print(\"Array2: \",array2)\n",
        "print(\"Unique values in array1 that are not in array2:\")\n",
        "print(np.setdiff1d(array1, array2))\n"
      ],
      "execution_count": 2,
      "outputs": [
        {
          "output_type": "stream",
          "text": [
            "Array1:  [ 0 10 20 40 60 80]\n",
            "Array2:  [10, 30, 40, 50, 70]\n",
            "Unique values in array1 that are not in array2:\n",
            "[ 0 20 60 80]\n"
          ],
          "name": "stdout"
        }
      ]
    },
    {
      "cell_type": "markdown",
      "metadata": {
        "id": "J_sxE8m61Glw",
        "colab_type": "text"
      },
      "source": [
        "30. Write a NumPy program to sort pairs of first name and last name return their indices. (first by last name, then by first name). Go to the editor\n",
        "first_names = (Betsey, Shelley, Lanell, Genesis, Margery)\n",
        "last_names = (Battle, Brien, Plotner, Stahl, Woolum)\n",
        "Expected Output:\n",
        "[1 3 2 4 0]"
      ]
    },
    {
      "cell_type": "code",
      "metadata": {
        "id": "6_OPjUUJ0wpL",
        "colab_type": "code",
        "colab": {
          "base_uri": "https://localhost:8080/",
          "height": 52
        },
        "outputId": "c94628ff-56a7-4f89-a7d5-cb5a5737cfe7"
      },
      "source": [
        "first_names =    ('Margery', 'Betsey', 'Shelley', 'Lanell', 'Genesis')\n",
        "last_names = ('Woolum', 'Battle', 'Plotner', 'Brien', 'Stahl')\n",
        "x = np.lexsort((first_names, last_names))\n",
        "print(x)"
      ],
      "execution_count": 3,
      "outputs": [
        {
          "output_type": "stream",
          "text": [
            "[1 3 2 4 0]\n",
            "ERROR! Session/line number was not unique in database. History logging moved to new session 59\n"
          ],
          "name": "stdout"
        }
      ]
    },
    {
      "cell_type": "markdown",
      "metadata": {
        "id": "0PfKnH9C1Mqb",
        "colab_type": "text"
      },
      "source": [
        "40. Write a NumPy program to create a new array of 3*5, filled with 2. Go to the editor\n",
        "Expected Output:\n",
        "[[2 2 2 2 2]\n",
        "[2 2 2 2 2]\n",
        "[2 2 2 2 2]]\n",
        "[[2 2 2 2 2]\n",
        "[2 2 2 2 2]\n",
        "[2 2 2 2 2]]"
      ]
    },
    {
      "cell_type": "code",
      "metadata": {
        "id": "dRZw-lDa1MBh",
        "colab_type": "code",
        "colab": {
          "base_uri": "https://localhost:8080/",
          "height": 121
        },
        "outputId": "60e25fe5-1c5f-40ed-c03f-3bf348245c1b"
      },
      "source": [
        "x = np.full((3, 5), 2, dtype=np.uint)\n",
        "print(x)\n",
        "#using no.ones\n",
        "y = np.ones([3, 5], dtype=np.uint) *2\n",
        "print(y)"
      ],
      "execution_count": 4,
      "outputs": [
        {
          "output_type": "stream",
          "text": [
            "[[2 2 2 2 2]\n",
            " [2 2 2 2 2]\n",
            " [2 2 2 2 2]]\n",
            "[[2 2 2 2 2]\n",
            " [2 2 2 2 2]\n",
            " [2 2 2 2 2]]\n"
          ],
          "name": "stdout"
        }
      ]
    },
    {
      "cell_type": "markdown",
      "metadata": {
        "id": "uA5pScI51miQ",
        "colab_type": "text"
      },
      "source": [
        "50. Write a NumPy program to find the 4th element of a specified array. Go to the editor\n",
        "Expected Output:\n",
        "[[ 2 4 6]\n",
        "[ 6 8 10]]\n",
        "Forth e1ement of the array:\n",
        "6"
      ]
    },
    {
      "cell_type": "code",
      "metadata": {
        "id": "fbIG_a7w1hss",
        "colab_type": "code",
        "colab": {
          "base_uri": "https://localhost:8080/",
          "height": 87
        },
        "outputId": "618d1ce4-4a1b-46b1-864b-40f5043ec4b7"
      },
      "source": [
        "x = np.array([[2, 4, 6], [6, 8, 10]], np.int32)\n",
        "print(x)\n",
        "e1 = x.flat[3]\n",
        "print(\"Forth e1ement of the array:\")\n",
        "print(e1)"
      ],
      "execution_count": 5,
      "outputs": [
        {
          "output_type": "stream",
          "text": [
            "[[ 2  4  6]\n",
            " [ 6  8 10]]\n",
            "Forth e1ement of the array:\n",
            "6\n"
          ],
          "name": "stdout"
        }
      ]
    },
    {
      "cell_type": "markdown",
      "metadata": {
        "id": "2JsQhHxZ1ut_",
        "colab_type": "text"
      },
      "source": [
        "60. Write a NumPy program to convert (in sequence depth wise (along third axis)) two 1-D arrays into a 2-D array. Go to the editor\n",
        "Sample array: (10,20,30), (40,50,60)\n",
        "Expected Output:\n",
        "[[[10 40]]\n",
        "[[20 50]]\n",
        "[[30 60]]]"
      ]
    },
    {
      "cell_type": "code",
      "metadata": {
        "id": "PpMYY0mO1uBH",
        "colab_type": "code",
        "colab": {
          "base_uri": "https://localhost:8080/",
          "height": 104
        },
        "outputId": "8361826e-a241-4e9e-e972-6a0645050a6a"
      },
      "source": [
        "a = np.array([[10],[20],[30]])\n",
        "b = np.array([[40],[50],[60]])\n",
        "c = np.dstack((a, b))\n",
        "print(c)"
      ],
      "execution_count": 6,
      "outputs": [
        {
          "output_type": "stream",
          "text": [
            "[[[10 40]]\n",
            "\n",
            " [[20 50]]\n",
            "\n",
            " [[30 60]]]\n"
          ],
          "name": "stdout"
        }
      ]
    },
    {
      "cell_type": "markdown",
      "metadata": {
        "id": "QVWVZVUR16HJ",
        "colab_type": "text"
      },
      "source": [
        " Write a NumPy program to create display every element of a NumPy array. Go to the editor\n",
        "Expected Output:\n",
        "0 1 2 3 4 5 6 7 8 9 10 11"
      ]
    },
    {
      "cell_type": "code",
      "metadata": {
        "id": "kym-nNlT11TH",
        "colab_type": "code",
        "colab": {
          "base_uri": "https://localhost:8080/",
          "height": 35
        },
        "outputId": "696c29b8-797a-4f09-b1d8-c0cc5d40e028"
      },
      "source": [
        "x = np.arange(12).reshape(3, 4)\n",
        "for x in np.nditer(x):\n",
        "    print(x,end=' ')\n",
        "print()"
      ],
      "execution_count": 7,
      "outputs": [
        {
          "output_type": "stream",
          "text": [
            "0 1 2 3 4 5 6 7 8 9 10 11 \n"
          ],
          "name": "stdout"
        }
      ]
    },
    {
      "cell_type": "markdown",
      "metadata": {
        "id": "fxkBcEzy1_hR",
        "colab_type": "text"
      },
      "source": [
        "90. Write a NumPy program to remove the negative values in a NumPy array with 0. Go to the editor\n",
        "\n",
        "Expected Output:\n",
        "Original array:\n",
        "[-1 -4 0 2 3 4 5 -6]\n",
        "Replace the negative values of the said array with 0:\n",
        "[0 0 0 2 3 4 5 0]"
      ]
    },
    {
      "cell_type": "code",
      "metadata": {
        "id": "bmDELy6C1-i7",
        "colab_type": "code",
        "colab": {
          "base_uri": "https://localhost:8080/",
          "height": 104
        },
        "outputId": "a32218eb-dbbc-4761-8d2a-77ff26a17ba0"
      },
      "source": [
        "x = np.array([-1, -4, 0, 2, 3, 4, 5, -6])\n",
        "print(\"Original array:\")\n",
        "print(x)\n",
        "print(\"Replace the negative values of the said array with 0:\")\n",
        "x[x < 0] = 0\n",
        "print(x)"
      ],
      "execution_count": 8,
      "outputs": [
        {
          "output_type": "stream",
          "text": [
            "Original array:\n",
            "[-1 -4  0  2  3  4  5 -6]\n",
            "Replace the negative values of the said array with 0:\n",
            "[0 0 0 2 3 4 5 0]\n",
            "ERROR! Session/line number was not unique in database. History logging moved to new session 60\n"
          ],
          "name": "stdout"
        }
      ]
    },
    {
      "cell_type": "markdown",
      "metadata": {
        "id": "73_pdVR02PGI",
        "colab_type": "text"
      },
      "source": [
        "100. Write a NumPy program to take values from a source array and put them at specified indices of another array. Go to the editor\n",
        "Expected Output:\n",
        "[ 10. 10. 20. 30. 30.]\n",
        "Put 0 and 40 in first and fifth position of the above array\n",
        "Array x after put two values: [ 0. 10. 20. 30. 40.]"
      ]
    },
    {
      "cell_type": "code",
      "metadata": {
        "id": "f003x9TH2Joj",
        "colab_type": "code",
        "colab": {
          "base_uri": "https://localhost:8080/",
          "height": 87
        },
        "outputId": "bb30a76f-36e2-4c16-9ec2-de4b2150ac5a"
      },
      "source": [
        "import numpy as np\n",
        "x = np.array([10, 10, 20, 30, 30], float)\n",
        "print(x)\n",
        "print(\"Put 0 and 40 in first and fifth position of the above array\")\n",
        "y = np.array([0, 40, 60], float) \n",
        "x.put([0, 4], y)\n",
        "print(\"Array x, after putting two values:\")\n",
        "print(x)"
      ],
      "execution_count": 9,
      "outputs": [
        {
          "output_type": "stream",
          "text": [
            "[10. 10. 20. 30. 30.]\n",
            "Put 0 and 40 in first and fifth position of the above array\n",
            "Array x, after putting two values:\n",
            "[ 0. 10. 20. 30. 40.]\n"
          ],
          "name": "stdout"
        }
      ]
    },
    {
      "cell_type": "code",
      "metadata": {
        "id": "DPzdagD12TCr",
        "colab_type": "code",
        "colab": {}
      },
      "source": [
        ""
      ],
      "execution_count": 0,
      "outputs": []
    }
  ]
}