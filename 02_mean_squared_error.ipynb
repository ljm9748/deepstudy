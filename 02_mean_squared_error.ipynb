{
  "nbformat": 4,
  "nbformat_minor": 0,
  "metadata": {
    "colab": {
      "name": "02_mean_squared_error.ipynb",
      "provenance": [],
      "authorship_tag": "ABX9TyOTW6oRFF7HvPUJG4lCGUN7",
      "include_colab_link": true
    },
    "kernelspec": {
      "name": "python3",
      "display_name": "Python 3"
    }
  },
  "cells": [
    {
      "cell_type": "markdown",
      "metadata": {
        "id": "view-in-github",
        "colab_type": "text"
      },
      "source": [
        "<a href=\"https://colab.research.google.com/github/ljm9748/deepstudy/blob/master/02_mean_squared_error.ipynb\" target=\"_parent\"><img src=\"https://colab.research.google.com/assets/colab-badge.svg\" alt=\"Open In Colab\"/></a>"
      ]
    },
    {
      "cell_type": "code",
      "metadata": {
        "id": "90n6ABtQ74ZF",
        "colab_type": "code",
        "colab": {}
      },
      "source": [
        "import numpy as np"
      ],
      "execution_count": 0,
      "outputs": []
    },
    {
      "cell_type": "code",
      "metadata": {
        "id": "7YWBhZIy77Gd",
        "colab_type": "code",
        "colab": {}
      },
      "source": [
        "randomab=[3,76]"
      ],
      "execution_count": 0,
      "outputs": []
    },
    {
      "cell_type": "code",
      "metadata": {
        "id": "AY3NhfJJ7-1I",
        "colab_type": "code",
        "colab": {}
      },
      "source": [
        "data=[[2,81], [4,93], [6, 91], [8, 97]]\n",
        "x=[i[0] for i in data] \n",
        "y=[i[1] for i in data] "
      ],
      "execution_count": 0,
      "outputs": []
    },
    {
      "cell_type": "code",
      "metadata": {
        "id": "HEYsYCHM8W6u",
        "colab_type": "code",
        "colab": {}
      },
      "source": [
        "def predict(x):\n",
        "  return randomab[0]*x+randomab[1]"
      ],
      "execution_count": 0,
      "outputs": []
    },
    {
      "cell_type": "code",
      "metadata": {
        "id": "kCpaPnsG-lAS",
        "colab_type": "code",
        "colab": {}
      },
      "source": [
        "def mse(y_hat, y):\n",
        "  return ((y_hat-y)**2).mean()"
      ],
      "execution_count": 0,
      "outputs": []
    },
    {
      "cell_type": "code",
      "metadata": {
        "id": "eAfo3_-k_Ho_",
        "colab_type": "code",
        "colab": {}
      },
      "source": [
        "def mse_val(predict_result, y):\n",
        "  return mse(np.array(predict_result), np.array(y))"
      ],
      "execution_count": 0,
      "outputs": []
    },
    {
      "cell_type": "code",
      "metadata": {
        "id": "MIbjb7Ek_p3E",
        "colab_type": "code",
        "colab": {}
      },
      "source": [
        "predict_result=[]"
      ],
      "execution_count": 0,
      "outputs": []
    },
    {
      "cell_type": "code",
      "metadata": {
        "id": "FicPQ-VG_so9",
        "colab_type": "code",
        "colab": {
          "base_uri": "https://localhost:8080/",
          "height": 87
        },
        "outputId": "465c0d04-b93f-48e3-92fa-0d7b6bec2d71"
      },
      "source": [
        "for i in range(len(x)):\n",
        "  tmpx=predict(x[i])\n",
        "  predict_result.append(tmpx)\n",
        "  tmpy=y[i]\n",
        "  print(\"공부한 시간=%.f, 실제점수=%.f, 예측점수=%.f\" % (x[i], tmpy, tmpx))"
      ],
      "execution_count": 34,
      "outputs": [
        {
          "output_type": "stream",
          "text": [
            "공부한 시간=2, 실제점수=81, 예측점수=82\n",
            "공부한 시간=4, 실제점수=93, 예측점수=88\n",
            "공부한 시간=6, 실제점수=91, 예측점수=94\n",
            "공부한 시간=8, 실제점수=97, 예측점수=100\n"
          ],
          "name": "stdout"
        }
      ]
    },
    {
      "cell_type": "code",
      "metadata": {
        "id": "fle69Ef-BvHK",
        "colab_type": "code",
        "colab": {
          "base_uri": "https://localhost:8080/",
          "height": 35
        },
        "outputId": "0c7444ea-332a-4828-d1f1-2af7ac961f16"
      },
      "source": [
        "mse_val(predict_result,y)"
      ],
      "execution_count": 35,
      "outputs": [
        {
          "output_type": "execute_result",
          "data": {
            "text/plain": [
              "11.0"
            ]
          },
          "metadata": {
            "tags": []
          },
          "execution_count": 35
        }
      ]
    },
    {
      "cell_type": "code",
      "metadata": {
        "id": "UXSFDbHeB0Vb",
        "colab_type": "code",
        "colab": {}
      },
      "source": [
        ""
      ],
      "execution_count": 0,
      "outputs": []
    }
  ]
}